{
 "cells": [
  {
   "cell_type": "code",
   "execution_count": 4,
   "metadata": {
    "_cell_guid": "b1076dfc-b9ad-4769-8c92-a6c4dae69d19",
    "_uuid": "8f2839f25d086af736a60e9eeb907d3b93b6e0e5",
    "execution": {
     "iopub.execute_input": "2025-05-04T18:12:53.378810Z",
     "iopub.status.busy": "2025-05-04T18:12:53.378499Z",
     "iopub.status.idle": "2025-05-04T18:12:53.384857Z",
     "shell.execute_reply": "2025-05-04T18:12:53.383947Z",
     "shell.execute_reply.started": "2025-05-04T18:12:53.378768Z"
    },
    "trusted": true
   },
   "outputs": [],
   "source": [
    "import pandas as pd\n",
    "from sklearn.model_selection import train_test_split, cross_val_score\n",
    "from sklearn.preprocessing import StandardScaler\n",
    "from sklearn.pipeline import Pipeline\n",
    "from sklearn.linear_model    import LogisticRegression\n",
    "from sklearn.ensemble        import RandomForestClassifier\n",
    "from sklearn.svm             import SVC\n",
    "from sklearn.neighbors       import KNeighborsClassifier\n",
    "from sklearn.metrics         import classification_report\n",
    "from tqdm.auto               import tqdm"
   ]
  },
  {
   "cell_type": "code",
   "execution_count": null,
   "metadata": {
    "execution": {
     "iopub.execute_input": "2025-05-04T18:12:55.572260Z",
     "iopub.status.busy": "2025-05-04T18:12:55.571905Z",
     "iopub.status.idle": "2025-05-04T18:13:05.381083Z",
     "shell.execute_reply": "2025-05-04T18:13:05.379978Z",
     "shell.execute_reply.started": "2025-05-04T18:12:55.572236Z"
    },
    "trusted": true
   },
   "outputs": [
    {
     "name": "stdout",
     "output_type": "stream",
     "text": [
      "► Gender distribution:\n",
      " gender\n",
      "1    136992\n",
      "0     35166\n",
      "Name: count, dtype: int64 \n",
      "\n"
     ]
    }
   ],
   "source": [
    "df = pd.read_csv('/kaggle/input/features-with-labels-csv/features_with_labels.csv')\n",
    "\n",
    "print(\"► Gender distribution:\\n\", df['gender'].value_counts(), \"\\n\")"
   ]
  },
  {
   "cell_type": "code",
   "execution_count": null,
   "metadata": {
    "execution": {
     "iopub.execute_input": "2025-05-04T18:13:11.501186Z",
     "iopub.status.busy": "2025-05-04T18:13:11.500762Z",
     "iopub.status.idle": "2025-05-04T18:13:12.029277Z",
     "shell.execute_reply": "2025-05-04T18:13:12.028066Z",
     "shell.execute_reply.started": "2025-05-04T18:13:11.501160Z"
    },
    "trusted": true
   },
   "outputs": [
    {
     "name": "stdout",
     "output_type": "stream",
     "text": [
      "Minority class size: 35166\n",
      "New distribution:\n",
      " gender\n",
      "1    35166\n",
      "0    35166\n",
      "Name: count, dtype: int64 \n",
      "\n"
     ]
    }
   ],
   "source": [
    "feature_cols = [\n",
    "    'gender_f0_mean','gender_f0_std',\n",
    "    'gender_formant_1','gender_formant_2','gender_formant_3',\n",
    "    'gender_mfcc_0','gender_mfcc_1','gender_mfcc_2','gender_mfcc_3',\n",
    "    'gender_mfcc_4','gender_mfcc_5','gender_mfcc_6','gender_mfcc_7',\n",
    "    'gender_mfcc_8','gender_mfcc_9','gender_mfcc_10','gender_mfcc_11',\n",
    "    'gender_mfcc_12',\n",
    "    'gender_mfcc_d_0','gender_mfcc_d_1','gender_mfcc_d_2','gender_mfcc_d_3',\n",
    "    'gender_mfcc_d_4','gender_mfcc_d_5','gender_mfcc_d_6','gender_mfcc_d_7',\n",
    "    'gender_mfcc_d_8','gender_mfcc_d_9','gender_mfcc_d_10','gender_mfcc_d_11',\n",
    "    'gender_mfcc_d_12',\n",
    "    'gender_spec_contrast_0','gender_spec_contrast_1','gender_spec_contrast_2',\n",
    "    'gender_spec_contrast_3','gender_spec_contrast_4','gender_spec_contrast_5',\n",
    "    'gender_spec_contrast_6',\n",
    "    'gender_chroma_0','gender_chroma_1','gender_chroma_2','gender_chroma_3',\n",
    "    'gender_chroma_4','gender_chroma_5','gender_chroma_6','gender_chroma_7',\n",
    "    'gender_chroma_8','gender_chroma_9','gender_chroma_10','gender_chroma_11'\n",
    "]\n",
    "\n",
    "min_count = df['gender'].value_counts().min()\n",
    "print(\"Minority class size:\", min_count)\n",
    "\n",
    "balanced = pd.concat([\n",
    "    df[df['gender'] == g].sample(n=min_count, random_state=42)\n",
    "    for g in df['gender'].unique()\n",
    "], axis=0)\n",
    "\n",
    "balanced = balanced.sample(frac=1, random_state=42).reset_index(drop=True)\n",
    "print(\"New distribution:\\n\", balanced['gender'].value_counts(), \"\\n\")\n",
    "\n",
    "X = balanced[feature_cols]\n",
    "y = balanced['gender']"
   ]
  },
  {
   "cell_type": "code",
   "execution_count": null,
   "metadata": {
    "execution": {
     "iopub.execute_input": "2025-05-04T18:13:15.128979Z",
     "iopub.status.busy": "2025-05-04T18:13:15.128581Z",
     "iopub.status.idle": "2025-05-04T18:13:15.483524Z",
     "shell.execute_reply": "2025-05-04T18:13:15.482400Z",
     "shell.execute_reply.started": "2025-05-04T18:13:15.128954Z"
    },
    "trusted": true
   },
   "outputs": [],
   "source": [
    "import numpy as np\n",
    "import pandas as pd\n",
    "\n",
    "from sklearn.model_selection import train_test_split, GridSearchCV\n",
    "from sklearn.preprocessing  import StandardScaler, PolynomialFeatures\n",
    "from sklearn.feature_selection import SelectKBest, f_classif\n",
    "from sklearn.pipeline       import Pipeline\n",
    "from sklearn.svm            import SVC\n",
    "from xgboost                import XGBClassifier\n",
    "from sklearn.ensemble       import StackingClassifier\n",
    "from sklearn.linear_model  import LogisticRegression\n",
    "from sklearn.metrics       import accuracy_score, classification_report\n",
    "from tqdm.auto             import tqdm\n",
    "\n",
    "X_train, X_test, y_train, y_test = train_test_split(\n",
    "    X, y, test_size=0.2, stratify=y, random_state=42)"
   ]
  },
  {
   "cell_type": "code",
   "execution_count": null,
   "metadata": {
    "execution": {
     "iopub.execute_input": "2025-05-04T11:22:20.521484Z",
     "iopub.status.busy": "2025-05-04T11:22:20.521245Z"
    },
    "trusted": true
   },
   "outputs": [
    {
     "name": "stdout",
     "output_type": "stream",
     "text": [
      "Fitting 3 folds for each of 972 candidates, totalling 2916 fits\n"
     ]
    }
   ],
   "source": [
    "\n",
    "xgb_pipe = Pipeline([\n",
    "    ('poly',   PolynomialFeatures(degree=2,\n",
    "                      interaction_only=True,\n",
    "                      include_bias=False)),\n",
    "    ('select', SelectKBest(f_classif)),  # k will be tuned\n",
    "    ('scale',  StandardScaler()),        # scale before tree often still helps\n",
    "    ('xgb',    XGBClassifier(random_state=42, n_jobs=1))\n",
    "])\n",
    "\n",
    "xgb_params = {\n",
    "    'select__k':            [50, 100, 200, 300],\n",
    "    'xgb__n_estimators':    [100, 200, 300],\n",
    "    'xgb__max_depth':       [3, 5, 7],\n",
    "    'xgb__learning_rate':   [0.05, 0.1, 0.2],\n",
    "    'xgb__subsample':       [0.6, 0.8, 1.0],\n",
    "    'xgb__colsample_bytree':[0.6, 0.8, 1.0],\n",
    "}\n",
    "\n",
    "xgb_search = GridSearchCV(\n",
    "    xgb_pipe, xgb_params,\n",
    "    cv=3, scoring='accuracy',\n",
    "    n_jobs=1, verbose=1\n",
    ")\n",
    "xgb_search.fit(X_train, y_train)\n",
    "best_xgb = xgb_search.best_estimator_\n",
    "print(\"XGB CV:\", xgb_search.best_score_, \"→ Test:\",\n",
    "      accuracy_score(y_test, best_xgb.predict(X_test)))\n",
    "\n",
    "svc_pipe = Pipeline([\n",
    "    ('scale', StandardScaler()),\n",
    "    ('svc',   SVC(probability=True))\n",
    "])\n",
    "svc_params = {\n",
    "    'svc__C':     [0.1, 1, 10, 100],\n",
    "    'svc__gamma': ['scale','auto', 0.001, 0.01, 0.1]\n",
    "}\n",
    "\n",
    "svc_search = GridSearchCV(\n",
    "    svc_pipe, svc_params,\n",
    "    cv=3, scoring='accuracy',\n",
    "    n_jobs=1, verbose=1\n",
    ")\n",
    "svc_search.fit(X_train, y_train)\n",
    "best_svc = svc_search.best_estimator_\n",
    "print(\"SVC CV:\", svc_search.best_score_, \"→ Test:\",\n",
    "      accuracy_score(y_test, best_svc.predict(X_test)))\n",
    "\n",
    "stack = StackingClassifier(\n",
    "    estimators=[('xgb', best_xgb), ('svc', best_svc)],\n",
    "    final_estimator=LogisticRegression(max_iter=2000),\n",
    "    cv=3, n_jobs=1, passthrough=True\n",
    ")\n",
    "stack.fit(X_train, y_train)\n",
    "y_pred = stack.predict(X_test)\n",
    "print(\"\\nStacking Test Accuracy:\", accuracy_score(y_test, y_pred))\n",
    "print(classification_report(y_test, y_pred, digits=4))\n"
   ]
  },
  {
   "cell_type": "code",
   "execution_count": 8,
   "metadata": {
    "execution": {
     "iopub.execute_input": "2025-05-04T18:13:18.996731Z",
     "iopub.status.busy": "2025-05-04T18:13:18.996412Z",
     "iopub.status.idle": "2025-05-04T18:13:19.061693Z",
     "shell.execute_reply": "2025-05-04T18:13:19.060747Z",
     "shell.execute_reply.started": "2025-05-04T18:13:18.996707Z"
    },
    "trusted": true
   },
   "outputs": [],
   "source": [
    "X_train, X_test, y_train, y_test = train_test_split(\n",
    "    X, y, test_size=0.2, stratify=y, random_state=42\n",
    ")"
   ]
  },
  {
   "cell_type": "code",
   "execution_count": 9,
   "metadata": {
    "execution": {
     "iopub.execute_input": "2025-05-04T18:13:21.604717Z",
     "iopub.status.busy": "2025-05-04T18:13:21.604362Z",
     "iopub.status.idle": "2025-05-04T18:13:25.473327Z",
     "shell.execute_reply": "2025-05-04T18:13:25.470761Z",
     "shell.execute_reply.started": "2025-05-04T18:13:21.604693Z"
    },
    "trusted": true
   },
   "outputs": [
    {
     "name": "stdout",
     "output_type": "stream",
     "text": [
      "XGBoost test acc: 0.9404279519442668\n"
     ]
    }
   ],
   "source": [
    "import xgboost as xgb\n",
    "from sklearn.metrics import accuracy_score\n",
    "\n",
    "clf = xgb.XGBClassifier(\n",
    "    n_estimators=200,\n",
    "    learning_rate=0.1,\n",
    "    max_depth=6,\n",
    "    use_label_encoder=False,\n",
    "    eval_metric='logloss',\n",
    "    random_state=42,\n",
    "    n_jobs=-1\n",
    ")\n",
    "clf.fit(X_train, y_train)\n",
    "y_pred = clf.predict(X_test)\n",
    "print(\"XGBoost test acc:\", accuracy_score(y_test, y_pred))\n"
   ]
  },
  {
   "cell_type": "code",
   "execution_count": 10,
   "metadata": {
    "execution": {
     "iopub.execute_input": "2025-05-04T18:13:27.427619Z",
     "iopub.status.busy": "2025-05-04T18:13:27.427268Z",
     "iopub.status.idle": "2025-05-04T18:21:11.385615Z",
     "shell.execute_reply": "2025-05-04T18:21:11.384213Z",
     "shell.execute_reply.started": "2025-05-04T18:13:27.427595Z"
    },
    "trusted": true
   },
   "outputs": [
    {
     "name": "stdout",
     "output_type": "stream",
     "text": [
      "Fitting 3 folds for each of 30 candidates, totalling 90 fits\n",
      "Best params: {'colsample_bytree': 0.6, 'gamma': 1, 'learning_rate': 0.10988100318524599, 'max_depth': 11, 'n_estimators': 216, 'reg_alpha': 0.1, 'reg_lambda': 1, 'subsample': 0.8}\n",
      "Best CV acc: 0.9397\n"
     ]
    }
   ],
   "source": [
    "from sklearn.model_selection import RandomizedSearchCV\n",
    "import xgboost as xgb\n",
    "from scipy.stats import randint, loguniform\n",
    "\n",
    "xgb_base = xgb.XGBClassifier(\n",
    "    objective='binary:logistic',\n",
    "    eval_metric='logloss',\n",
    "    random_state=42,\n",
    "    n_jobs=-1\n",
    ")\n",
    "\n",
    "param_dist = {\n",
    "    'n_estimators': randint(50, 500),\n",
    "    'max_depth':    randint(3, 12),\n",
    "    'learning_rate': loguniform(1e-3, 1.0),\n",
    "    'subsample':     [0.6, 0.8, 1.0],\n",
    "    'colsample_bytree': [0.6, 0.8, 1.0],\n",
    "    'gamma':         [0, 0.5, 1, 5],\n",
    "    'reg_alpha':     [0, 0.1, 1, 10],\n",
    "    'reg_lambda':    [1, 10, 50]\n",
    "}\n",
    "\n",
    "search = RandomizedSearchCV(\n",
    "    xgb_base,\n",
    "    param_distributions=param_dist,\n",
    "    n_iter=30,\n",
    "    scoring='accuracy',\n",
    "    cv=3,\n",
    "    verbose=2,\n",
    "    random_state=42,\n",
    "    n_jobs=-1\n",
    ")\n",
    "\n",
    "search.fit(X_train, y_train)  # no early stopping here\n",
    "\n",
    "best_params = search.best_params_\n",
    "print(\"Best params:\", best_params)\n",
    "print(f\"Best CV acc: {search.best_score_:.4f}\")\n"
   ]
  },
  {
   "cell_type": "code",
   "execution_count": null,
   "metadata": {
    "execution": {
     "iopub.execute_input": "2025-05-04T18:21:51.714333Z",
     "iopub.status.busy": "2025-05-04T18:21:51.713920Z",
     "iopub.status.idle": "2025-05-04T18:29:41.812040Z",
     "shell.execute_reply": "2025-05-04T18:29:41.810974Z",
     "shell.execute_reply.started": "2025-05-04T18:21:51.714302Z"
    },
    "trusted": true
   },
   "outputs": [
    {
     "data": {
      "application/vnd.jupyter.widget-view+json": {
       "model_id": "75b55080a3af4582b915b7115f66c08c",
       "version_major": 2,
       "version_minor": 0
      },
      "text/plain": [
       "Tuning pipelines:   0%|          | 0/3 [00:00<?, ?it/s]"
      ]
     },
     "metadata": {},
     "output_type": "display_data"
    },
    {
     "name": "stdout",
     "output_type": "stream",
     "text": [
      "CV results:\n",
      "    pipeline                             best_params   cv_acc\n",
      " KNN_selectK {'kbest__k': 40, 'knn__n_neighbors': 3} 0.942309\n",
      "KNN_baseline                 {'knn__n_neighbors': 3} 0.939963\n",
      "     KNN_pca                 {'knn__n_neighbors': 3} 0.935324\n",
      "\n",
      "KNN_baseline - Test accuracy: 0.9431\n",
      "              precision    recall  f1-score   support\n",
      "\n",
      "           0     0.9281    0.9605    0.9440      7034\n",
      "           1     0.9590    0.9256    0.9420      7033\n",
      "\n",
      "    accuracy                         0.9431     14067\n",
      "   macro avg     0.9436    0.9431    0.9430     14067\n",
      "weighted avg     0.9436    0.9431    0.9430     14067\n",
      "\n",
      "\n",
      "KNN_selectK - Test accuracy: 0.9458\n",
      "              precision    recall  f1-score   support\n",
      "\n",
      "           0     0.9307    0.9635    0.9468      7034\n",
      "           1     0.9621    0.9282    0.9449      7033\n",
      "\n",
      "    accuracy                         0.9458     14067\n",
      "   macro avg     0.9464    0.9458    0.9458     14067\n",
      "weighted avg     0.9464    0.9458    0.9458     14067\n",
      "\n",
      "\n",
      "KNN_pca - Test accuracy: 0.9393\n",
      "              precision    recall  f1-score   support\n",
      "\n",
      "           0     0.9248    0.9564    0.9403      7034\n",
      "           1     0.9548    0.9222    0.9382      7033\n",
      "\n",
      "    accuracy                         0.9393     14067\n",
      "   macro avg     0.9398    0.9393    0.9393     14067\n",
      "weighted avg     0.9398    0.9393    0.9393     14067\n",
      "\n",
      "[CV] END colsample_bytree=1.0, gamma=1, learning_rate=0.0014936568554617625, max_depth=10, n_estimators=422, reg_alpha=10, reg_lambda=50, subsample=0.8; total time= 1.2min\n",
      "[CV] END colsample_bytree=0.8, gamma=0.5, learning_rate=0.0010500232504231353, max_depth=11, n_estimators=98, reg_alpha=1, reg_lambda=50, subsample=1.0; total time=  24.2s\n",
      "[CV] END colsample_bytree=0.6, gamma=1, learning_rate=0.10988100318524599, max_depth=11, n_estimators=216, reg_alpha=0.1, reg_lambda=1, subsample=0.8; total time=  18.3s\n",
      "[CV] END colsample_bytree=0.8, gamma=0.5, learning_rate=0.008200518402245833, max_depth=7, n_estimators=435, reg_alpha=10, reg_lambda=50, subsample=1.0; total time=  30.0s\n",
      "[CV] END colsample_bytree=0.8, gamma=0.5, learning_rate=0.6025271171095381, max_depth=10, n_estimators=264, reg_alpha=10, reg_lambda=1, subsample=0.8; total time=   7.5s\n",
      "[CV] END colsample_bytree=0.8, gamma=0.5, learning_rate=0.6025271171095381, max_depth=10, n_estimators=264, reg_alpha=10, reg_lambda=1, subsample=0.8; total time=   8.0s\n",
      "[CV] END colsample_bytree=0.6, gamma=5, learning_rate=0.17456626922659324, max_depth=7, n_estimators=329, reg_alpha=0.1, reg_lambda=1, subsample=0.6; total time=   6.1s\n",
      "[CV] END colsample_bytree=0.6, gamma=0, learning_rate=0.2550298070162892, max_depth=3, n_estimators=394, reg_alpha=1, reg_lambda=1, subsample=0.6; total time=   5.6s\n",
      "[CV] END colsample_bytree=1.0, gamma=1, learning_rate=0.0039493644472223316, max_depth=10, n_estimators=212, reg_alpha=1, reg_lambda=1, subsample=1.0; total time= 1.2min\n",
      "[CV] END colsample_bytree=0.6, gamma=5, learning_rate=0.012955517240662174, max_depth=10, n_estimators=342, reg_alpha=1, reg_lambda=10, subsample=1.0; total time=  34.0s\n",
      "[CV] END colsample_bytree=1.0, gamma=0.5, learning_rate=0.030296104428212477, max_depth=11, n_estimators=256, reg_alpha=1, reg_lambda=10, subsample=0.8; total time= 1.0min\n",
      "[CV] END colsample_bytree=0.6, gamma=1, learning_rate=0.0012424747083660192, max_depth=9, n_estimators=290, reg_alpha=10, reg_lambda=1, subsample=0.8; total time=  33.0s\n",
      "[CV] END colsample_bytree=1.0, gamma=0, learning_rate=0.028476716659445466, max_depth=3, n_estimators=356, reg_alpha=0.1, reg_lambda=50, subsample=1.0; total time=   5.8s\n",
      "[CV] END colsample_bytree=0.8, gamma=5, learning_rate=0.03600575029200901, max_depth=11, n_estimators=229, reg_alpha=0, reg_lambda=10, subsample=0.6; total time=  19.8s\n",
      "[CV] END colsample_bytree=0.8, gamma=5, learning_rate=0.005503363365456095, max_depth=9, n_estimators=435, reg_alpha=1, reg_lambda=1, subsample=0.6; total time=  55.5s\n",
      "[CV] END colsample_bytree=1.0, gamma=5, learning_rate=0.711447600934342, max_depth=10, n_estimators=238, reg_alpha=0, reg_lambda=50, subsample=0.8; total time=   4.5s\n",
      "[CV] END colsample_bytree=1.0, gamma=1, learning_rate=0.0014936568554617625, max_depth=10, n_estimators=422, reg_alpha=10, reg_lambda=50, subsample=0.8; total time= 1.2min\n",
      "[CV] END colsample_bytree=0.8, gamma=5, learning_rate=0.007523742884534853, max_depth=5, n_estimators=413, reg_alpha=1, reg_lambda=1, subsample=1.0; total time=  13.1s\n",
      "[CV] END colsample_bytree=0.8, gamma=5, learning_rate=0.007523742884534853, max_depth=5, n_estimators=413, reg_alpha=1, reg_lambda=1, subsample=1.0; total time=  13.4s\n",
      "[CV] END colsample_bytree=0.8, gamma=0.5, learning_rate=0.008200518402245833, max_depth=7, n_estimators=435, reg_alpha=10, reg_lambda=50, subsample=1.0; total time=  29.9s\n",
      "[CV] END colsample_bytree=0.8, gamma=0.5, learning_rate=0.043664735929796326, max_depth=8, n_estimators=240, reg_alpha=0.1, reg_lambda=10, subsample=0.8; total time=  23.3s\n",
      "[CV] END colsample_bytree=0.8, gamma=0.5, learning_rate=0.6025271171095381, max_depth=10, n_estimators=264, reg_alpha=10, reg_lambda=1, subsample=0.8; total time=   7.3s\n",
      "[CV] END colsample_bytree=0.6, gamma=0, learning_rate=0.2550298070162892, max_depth=3, n_estimators=394, reg_alpha=1, reg_lambda=1, subsample=0.6; total time=   5.7s\n",
      "[CV] END colsample_bytree=1.0, gamma=1, learning_rate=0.0039493644472223316, max_depth=10, n_estimators=212, reg_alpha=1, reg_lambda=1, subsample=1.0; total time= 1.2min\n",
      "[CV] END colsample_bytree=0.6, gamma=5, learning_rate=0.012955517240662174, max_depth=10, n_estimators=342, reg_alpha=1, reg_lambda=10, subsample=1.0; total time=  34.7s\n",
      "[CV] END colsample_bytree=0.6, gamma=1, learning_rate=0.0012424747083660192, max_depth=9, n_estimators=290, reg_alpha=10, reg_lambda=1, subsample=0.8; total time=  34.6s\n",
      "[CV] END colsample_bytree=0.6, gamma=1, learning_rate=0.0012424747083660192, max_depth=9, n_estimators=290, reg_alpha=10, reg_lambda=1, subsample=0.8; total time=  34.0s\n",
      "[CV] END colsample_bytree=1.0, gamma=0.5, learning_rate=0.437928810005208, max_depth=11, n_estimators=183, reg_alpha=10, reg_lambda=10, subsample=0.8; total time=   9.5s\n",
      "[CV] END colsample_bytree=1.0, gamma=5, learning_rate=0.26443593078398636, max_depth=11, n_estimators=280, reg_alpha=0.1, reg_lambda=1, subsample=0.6; total time=   7.1s\n",
      "[CV] END colsample_bytree=0.6, gamma=1, learning_rate=0.019112758217777883, max_depth=6, n_estimators=282, reg_alpha=1, reg_lambda=50, subsample=0.8; total time=  11.7s\n",
      "[CV] END colsample_bytree=0.8, gamma=5, learning_rate=0.03600575029200901, max_depth=11, n_estimators=229, reg_alpha=0, reg_lambda=10, subsample=0.6; total time=  18.9s\n",
      "[CV] END colsample_bytree=0.8, gamma=5, learning_rate=0.005503363365456095, max_depth=9, n_estimators=435, reg_alpha=1, reg_lambda=1, subsample=0.6; total time=  53.6s\n",
      "[CV] END colsample_bytree=1.0, gamma=5, learning_rate=0.24833353742622602, max_depth=11, n_estimators=173, reg_alpha=1, reg_lambda=10, subsample=0.6; total time=   6.1s\n",
      "[CV] END colsample_bytree=1.0, gamma=5, learning_rate=0.711447600934342, max_depth=10, n_estimators=238, reg_alpha=0, reg_lambda=50, subsample=0.8; total time=   4.6s\n",
      "[CV] END colsample_bytree=0.6, gamma=0.5, learning_rate=0.146553541187277, max_depth=8, n_estimators=435, reg_alpha=10, reg_lambda=1, subsample=0.6; total time=  18.5s\n",
      "[CV] END colsample_bytree=0.6, gamma=0.5, learning_rate=0.146553541187277, max_depth=8, n_estimators=435, reg_alpha=10, reg_lambda=1, subsample=0.6; total time=  16.4s\n",
      "[CV] END colsample_bytree=0.6, gamma=0.5, learning_rate=0.146553541187277, max_depth=8, n_estimators=435, reg_alpha=10, reg_lambda=1, subsample=0.6; total time=  15.5s\n",
      "[CV] END colsample_bytree=0.8, gamma=0.5, learning_rate=0.0010500232504231353, max_depth=11, n_estimators=98, reg_alpha=1, reg_lambda=50, subsample=1.0; total time=  24.4s\n",
      "[CV] END colsample_bytree=0.8, gamma=5, learning_rate=0.007523742884534853, max_depth=5, n_estimators=413, reg_alpha=1, reg_lambda=1, subsample=1.0; total time=  13.1s\n",
      "[CV] END colsample_bytree=0.6, gamma=1, learning_rate=0.10988100318524599, max_depth=11, n_estimators=216, reg_alpha=0.1, reg_lambda=1, subsample=0.8; total time=  17.9s\n",
      "[CV] END colsample_bytree=0.8, gamma=0.5, learning_rate=0.008200518402245833, max_depth=7, n_estimators=435, reg_alpha=10, reg_lambda=50, subsample=1.0; total time=  29.2s\n",
      "[CV] END colsample_bytree=0.8, gamma=0.5, learning_rate=0.043664735929796326, max_depth=8, n_estimators=240, reg_alpha=0.1, reg_lambda=10, subsample=0.8; total time=  22.4s\n",
      "[CV] END colsample_bytree=0.6, gamma=5, learning_rate=0.17456626922659324, max_depth=7, n_estimators=329, reg_alpha=0.1, reg_lambda=1, subsample=0.6; total time=   6.2s\n",
      "[CV] END colsample_bytree=1.0, gamma=1, learning_rate=0.0039493644472223316, max_depth=10, n_estimators=212, reg_alpha=1, reg_lambda=1, subsample=1.0; total time= 1.2min\n",
      "[CV] END colsample_bytree=0.6, gamma=5, learning_rate=0.012955517240662174, max_depth=10, n_estimators=342, reg_alpha=1, reg_lambda=10, subsample=1.0; total time=  34.7s\n",
      "[CV] END colsample_bytree=1.0, gamma=0.5, learning_rate=0.030296104428212477, max_depth=11, n_estimators=256, reg_alpha=1, reg_lambda=10, subsample=0.8; total time= 1.0min\n",
      "[CV] END colsample_bytree=0.6, gamma=1, learning_rate=0.06505072449557178, max_depth=6, n_estimators=62, reg_alpha=10, reg_lambda=50, subsample=1.0; total time=   3.0s\n",
      "[CV] END colsample_bytree=0.6, gamma=1, learning_rate=0.06505072449557178, max_depth=6, n_estimators=62, reg_alpha=10, reg_lambda=50, subsample=1.0; total time=   3.1s\n",
      "[CV] END colsample_bytree=1.0, gamma=0.5, learning_rate=0.437928810005208, max_depth=11, n_estimators=183, reg_alpha=10, reg_lambda=10, subsample=0.8; total time=   9.5s\n",
      "[CV] END colsample_bytree=1.0, gamma=5, learning_rate=0.26443593078398636, max_depth=11, n_estimators=280, reg_alpha=0.1, reg_lambda=1, subsample=0.6; total time=   7.2s\n",
      "[CV] END colsample_bytree=0.6, gamma=1, learning_rate=0.019112758217777883, max_depth=6, n_estimators=282, reg_alpha=1, reg_lambda=50, subsample=0.8; total time=  11.7s\n",
      "[CV] END colsample_bytree=1.0, gamma=0, learning_rate=0.028476716659445466, max_depth=3, n_estimators=356, reg_alpha=0.1, reg_lambda=50, subsample=1.0; total time=   5.9s\n",
      "[CV] END colsample_bytree=0.8, gamma=5, learning_rate=0.005503363365456095, max_depth=9, n_estimators=435, reg_alpha=1, reg_lambda=1, subsample=0.6; total time=  53.9s\n",
      "[CV] END colsample_bytree=1.0, gamma=0.5, learning_rate=0.012686721262104845, max_depth=6, n_estimators=147, reg_alpha=0.1, reg_lambda=10, subsample=1.0; total time=   9.6s\n",
      "[CV] END colsample_bytree=1.0, gamma=0.5, learning_rate=0.012686721262104845, max_depth=6, n_estimators=147, reg_alpha=0.1, reg_lambda=10, subsample=1.0; total time=   8.5s\n",
      "[CV] END colsample_bytree=1.0, gamma=5, learning_rate=0.24833353742622602, max_depth=11, n_estimators=173, reg_alpha=1, reg_lambda=10, subsample=0.6; total time=   4.1s\n",
      "[CV] END colsample_bytree=1.0, gamma=5, learning_rate=0.711447600934342, max_depth=10, n_estimators=238, reg_alpha=0, reg_lambda=50, subsample=0.8; total time=   4.5s\n",
      "[CV] END colsample_bytree=1.0, gamma=1, learning_rate=0.0014936568554617625, max_depth=10, n_estimators=422, reg_alpha=10, reg_lambda=50, subsample=0.8; total time= 1.2min\n",
      "[CV] END colsample_bytree=0.8, gamma=0.5, learning_rate=0.0010500232504231353, max_depth=11, n_estimators=98, reg_alpha=1, reg_lambda=50, subsample=1.0; total time=  22.9s\n",
      "[CV] END colsample_bytree=0.6, gamma=1, learning_rate=0.10988100318524599, max_depth=11, n_estimators=216, reg_alpha=0.1, reg_lambda=1, subsample=0.8; total time=  18.3s\n",
      "[CV] END colsample_bytree=0.6, gamma=5, learning_rate=0.00126813521690846, max_depth=3, n_estimators=469, reg_alpha=0.1, reg_lambda=10, subsample=0.8; total time=   7.2s\n",
      "[CV] END colsample_bytree=0.6, gamma=5, learning_rate=0.00126813521690846, max_depth=3, n_estimators=469, reg_alpha=0.1, reg_lambda=10, subsample=0.8; total time=   7.4s\n",
      "[CV] END colsample_bytree=0.6, gamma=5, learning_rate=0.00126813521690846, max_depth=3, n_estimators=469, reg_alpha=0.1, reg_lambda=10, subsample=0.8; total time=   7.7s\n",
      "[CV] END colsample_bytree=0.8, gamma=0.5, learning_rate=0.043664735929796326, max_depth=8, n_estimators=240, reg_alpha=0.1, reg_lambda=10, subsample=0.8; total time=  22.4s\n",
      "[CV] END colsample_bytree=0.6, gamma=5, learning_rate=0.17456626922659324, max_depth=7, n_estimators=329, reg_alpha=0.1, reg_lambda=1, subsample=0.6; total time=   6.3s\n",
      "[CV] END colsample_bytree=0.6, gamma=0, learning_rate=0.2550298070162892, max_depth=3, n_estimators=394, reg_alpha=1, reg_lambda=1, subsample=0.6; total time=   6.4s\n",
      "[CV] END colsample_bytree=0.6, gamma=0.5, learning_rate=0.011895896737553546, max_depth=11, n_estimators=77, reg_alpha=1, reg_lambda=1, subsample=0.8; total time=  22.6s\n",
      "[CV] END colsample_bytree=0.6, gamma=0.5, learning_rate=0.011895896737553546, max_depth=11, n_estimators=77, reg_alpha=1, reg_lambda=1, subsample=0.8; total time=  23.0s\n",
      "[CV] END colsample_bytree=0.6, gamma=0.5, learning_rate=0.011895896737553546, max_depth=11, n_estimators=77, reg_alpha=1, reg_lambda=1, subsample=0.8; total time=  22.1s\n",
      "[CV] END colsample_bytree=1.0, gamma=0, learning_rate=0.014085771022963817, max_depth=5, n_estimators=306, reg_alpha=0, reg_lambda=10, subsample=1.0; total time=  10.8s\n",
      "[CV] END colsample_bytree=1.0, gamma=0, learning_rate=0.014085771022963817, max_depth=5, n_estimators=306, reg_alpha=0, reg_lambda=10, subsample=1.0; total time=  10.8s\n",
      "[CV] END colsample_bytree=1.0, gamma=0, learning_rate=0.014085771022963817, max_depth=5, n_estimators=306, reg_alpha=0, reg_lambda=10, subsample=1.0; total time=  11.5s\n",
      "[CV] END colsample_bytree=1.0, gamma=0.5, learning_rate=0.030296104428212477, max_depth=11, n_estimators=256, reg_alpha=1, reg_lambda=10, subsample=0.8; total time= 1.1min\n",
      "[CV] END colsample_bytree=0.6, gamma=1, learning_rate=0.06505072449557178, max_depth=6, n_estimators=62, reg_alpha=10, reg_lambda=50, subsample=1.0; total time=   3.0s\n",
      "[CV] END colsample_bytree=1.0, gamma=0.5, learning_rate=0.437928810005208, max_depth=11, n_estimators=183, reg_alpha=10, reg_lambda=10, subsample=0.8; total time=   8.9s\n",
      "[CV] END colsample_bytree=1.0, gamma=5, learning_rate=0.26443593078398636, max_depth=11, n_estimators=280, reg_alpha=0.1, reg_lambda=1, subsample=0.6; total time=   7.0s\n",
      "[CV] END colsample_bytree=0.6, gamma=1, learning_rate=0.019112758217777883, max_depth=6, n_estimators=282, reg_alpha=1, reg_lambda=50, subsample=0.8; total time=  12.1s\n",
      "[CV] END colsample_bytree=1.0, gamma=0, learning_rate=0.028476716659445466, max_depth=3, n_estimators=356, reg_alpha=0.1, reg_lambda=50, subsample=1.0; total time=   5.7s\n",
      "[CV] END colsample_bytree=0.8, gamma=5, learning_rate=0.03600575029200901, max_depth=11, n_estimators=229, reg_alpha=0, reg_lambda=10, subsample=0.6; total time=  19.2s\n",
      "[CV] END colsample_bytree=0.6, gamma=5, learning_rate=0.0012902113024567154, max_depth=3, n_estimators=51, reg_alpha=0.1, reg_lambda=10, subsample=1.0; total time=   1.6s\n",
      "[CV] END colsample_bytree=0.6, gamma=5, learning_rate=0.0012902113024567154, max_depth=3, n_estimators=51, reg_alpha=0.1, reg_lambda=10, subsample=1.0; total time=   1.4s\n",
      "[CV] END colsample_bytree=0.6, gamma=5, learning_rate=0.0012902113024567154, max_depth=3, n_estimators=51, reg_alpha=0.1, reg_lambda=10, subsample=1.0; total time=   1.5s\n",
      "[CV] END colsample_bytree=0.6, gamma=5, learning_rate=0.5306371575220844, max_depth=5, n_estimators=175, reg_alpha=0.1, reg_lambda=1, subsample=0.8; total time=   3.7s\n",
      "[CV] END colsample_bytree=0.6, gamma=5, learning_rate=0.5306371575220844, max_depth=5, n_estimators=175, reg_alpha=0.1, reg_lambda=1, subsample=0.8; total time=   2.8s\n",
      "[CV] END colsample_bytree=0.6, gamma=5, learning_rate=0.5306371575220844, max_depth=5, n_estimators=175, reg_alpha=0.1, reg_lambda=1, subsample=0.8; total time=   2.9s\n",
      "[CV] END colsample_bytree=0.8, gamma=5, learning_rate=0.05999156225282402, max_depth=9, n_estimators=252, reg_alpha=10, reg_lambda=50, subsample=0.6; total time=  10.0s\n",
      "[CV] END colsample_bytree=0.8, gamma=5, learning_rate=0.05999156225282402, max_depth=9, n_estimators=252, reg_alpha=10, reg_lambda=50, subsample=0.6; total time=  10.0s\n",
      "[CV] END colsample_bytree=0.8, gamma=5, learning_rate=0.05999156225282402, max_depth=9, n_estimators=252, reg_alpha=10, reg_lambda=50, subsample=0.6; total time=  10.8s\n",
      "[CV] END colsample_bytree=1.0, gamma=0.5, learning_rate=0.012686721262104845, max_depth=6, n_estimators=147, reg_alpha=0.1, reg_lambda=10, subsample=1.0; total time=   8.4s\n",
      "[CV] END colsample_bytree=1.0, gamma=5, learning_rate=0.24833353742622602, max_depth=11, n_estimators=173, reg_alpha=1, reg_lambda=10, subsample=0.6; total time=   4.5s\n"
     ]
    }
   ],
   "source": [
    "import pandas as pd\n",
    "import numpy as np\n",
    "from tqdm.auto import tqdm\n",
    "from sklearn.model_selection   import train_test_split, GridSearchCV\n",
    "from sklearn.preprocessing     import StandardScaler\n",
    "from sklearn.feature_selection import SelectKBest, f_classif\n",
    "from sklearn.decomposition     import PCA\n",
    "from sklearn.pipeline          import Pipeline\n",
    "from sklearn.neighbors         import KNeighborsClassifier\n",
    "from sklearn.metrics           import classification_report, accuracy_score\n",
    "\n",
    "\n",
    "pipelines = {\n",
    "    'KNN_baseline': Pipeline([\n",
    "        ('scaler', StandardScaler()),\n",
    "        ('knn',    KNeighborsClassifier())\n",
    "    ]),\n",
    "    'KNN_selectK': Pipeline([\n",
    "        ('scaler', StandardScaler()),\n",
    "        ('kbest',  SelectKBest(f_classif)),   # no fixed k yet\n",
    "        ('knn',    KNeighborsClassifier())\n",
    "    ]),\n",
    "    'KNN_pca':      Pipeline([\n",
    "        ('scaler', StandardScaler()),\n",
    "        ('pca',    PCA(n_components=0.95)),\n",
    "        ('knn',    KNeighborsClassifier())\n",
    "    ]),\n",
    "}\n",
    "\n",
    "param_grids = {\n",
    "    'KNN_baseline': {'knn__n_neighbors': [1,3,5,7,9,11,13]},\n",
    "    'KNN_selectK': {\n",
    "        'kbest__k':           [5, 10, 20, 30, 40, 50],  # <= total features\n",
    "        'knn__n_neighbors':   [1,3,5,7,9,11,13]\n",
    "    },\n",
    "    'KNN_pca':     {'knn__n_neighbors': [1,3,5,7,9,11,13]}\n",
    "}\n",
    "\n",
    "best_models = {}\n",
    "results = []\n",
    "\n",
    "for name, pipe in tqdm(pipelines.items(), desc=\"Tuning pipelines\"):\n",
    "    grid = GridSearchCV(\n",
    "        pipe,\n",
    "        param_grids[name],\n",
    "        cv=5,\n",
    "        scoring='accuracy',\n",
    "        n_jobs=-1,\n",
    "        verbose=0\n",
    "    )\n",
    "    grid.fit(X_train, y_train)\n",
    "    best_models[name] = grid.best_estimator_\n",
    "    results.append({\n",
    "        'pipeline': name,\n",
    "        'best_params': grid.best_params_,\n",
    "        'cv_acc':      grid.best_score_\n",
    "    })\n",
    "\n",
    "res_df = pd.DataFrame(results).sort_values('cv_acc', ascending=False)\n",
    "print(\"CV results:\")\n",
    "print(res_df.to_string(index=False))\n",
    "\n",
    "for name, model in best_models.items():\n",
    "    y_pred = model.predict(X_test)\n",
    "    acc = accuracy_score(y_test, y_pred)\n",
    "    print(f\"\\n{name} - Test accuracy: {acc:.4f}\")\n",
    "    print(classification_report(y_test, y_pred, digits=4))\n"
   ]
  },
  {
   "cell_type": "code",
   "execution_count": 12,
   "metadata": {
    "execution": {
     "iopub.execute_input": "2025-05-04T19:01:08.093433Z",
     "iopub.status.busy": "2025-05-04T19:01:08.093033Z",
     "iopub.status.idle": "2025-05-04T19:01:29.273647Z",
     "shell.execute_reply": "2025-05-04T19:01:29.272444Z",
     "shell.execute_reply.started": "2025-05-04T19:01:08.093406Z"
    },
    "trusted": true
   },
   "outputs": [
    {
     "name": "stdout",
     "output_type": "stream",
     "text": [
      "CatBoost test acc: 0.9418497192009668\n",
      "              precision    recall  f1-score   support\n",
      "\n",
      "           0     0.9406    0.9433    0.9419      7034\n",
      "           1     0.9431    0.9404    0.9418      7033\n",
      "\n",
      "    accuracy                         0.9418     14067\n",
      "   macro avg     0.9419    0.9418    0.9418     14067\n",
      "weighted avg     0.9419    0.9418    0.9418     14067\n",
      "\n"
     ]
    }
   ],
   "source": [
    "from catboost import CatBoostClassifier\n",
    "\n",
    "cbc = CatBoostClassifier(\n",
    "    iterations=1000,\n",
    "    learning_rate=0.05,\n",
    "    depth=6,\n",
    "    eval_metric='Accuracy',\n",
    "    random_seed=42,\n",
    "    early_stopping_rounds=30,\n",
    "    verbose=False\n",
    ")\n",
    "cbc.fit(X_train, y_train, eval_set=(X_test,y_test))\n",
    "\n",
    "y_pred = cbc.predict(X_test)\n",
    "print(\"CatBoost test acc:\", accuracy_score(y_test, y_pred))\n",
    "print(classification_report(y_test, y_pred, digits=4))\n"
   ]
  },
  {
   "cell_type": "code",
   "execution_count": 14,
   "metadata": {
    "execution": {
     "iopub.execute_input": "2025-05-04T19:07:02.397587Z",
     "iopub.status.busy": "2025-05-04T19:07:02.397202Z",
     "iopub.status.idle": "2025-05-04T19:12:33.914846Z",
     "shell.execute_reply": "2025-05-04T19:12:33.913703Z",
     "shell.execute_reply.started": "2025-05-04T19:07:02.397553Z"
    },
    "trusted": true
   },
   "outputs": [
    {
     "name": "stderr",
     "output_type": "stream",
     "text": [
      "/usr/local/lib/python3.11/dist-packages/sklearn/linear_model/_logistic.py:458: ConvergenceWarning: lbfgs failed to converge (status=1):\n",
      "STOP: TOTAL NO. OF ITERATIONS REACHED LIMIT.\n",
      "\n",
      "Increase the number of iterations (max_iter) or scale the data as shown in:\n",
      "    https://scikit-learn.org/stable/modules/preprocessing.html\n",
      "Please also refer to the documentation for alternative solver options:\n",
      "    https://scikit-learn.org/stable/modules/linear_model.html#logistic-regression\n",
      "  n_iter_i = _check_optimize_result(\n"
     ]
    },
    {
     "name": "stdout",
     "output_type": "stream",
     "text": [
      "Stacking test acc: 0.9597639866353878\n",
      "              precision    recall  f1-score   support\n",
      "\n",
      "           0     0.9599    0.9596    0.9598      7034\n",
      "           1     0.9596    0.9599    0.9598      7033\n",
      "\n",
      "    accuracy                         0.9598     14067\n",
      "   macro avg     0.9598    0.9598    0.9598     14067\n",
      "weighted avg     0.9598    0.9598    0.9598     14067\n",
      "\n"
     ]
    }
   ],
   "source": [
    "from sklearn.ensemble    import StackingClassifier\n",
    "from sklearn.linear_model import LogisticRegression\n",
    "from sklearn.pipeline     import Pipeline\n",
    "from sklearn.preprocessing import StandardScaler\n",
    "\n",
    "# assume best_models['KNN_selectK'] exists and best_params from XGB search\n",
    "xgb_clf = xgb.XGBClassifier(\n",
    "    **best_params,\n",
    "    objective='binary:logistic',\n",
    "    eval_metric='logloss',\n",
    "    random_state=42,\n",
    "    n_jobs=-1\n",
    ")\n",
    "\n",
    "stack = StackingClassifier(\n",
    "    estimators=[\n",
    "        ('knn', best_models['KNN_selectK']),\n",
    "        ('xgb', xgb_clf),\n",
    "        ('rf',  RandomForestClassifier(n_estimators=200, random_state=42, n_jobs=-1))\n",
    "    ],\n",
    "    final_estimator=LogisticRegression(max_iter=1000),\n",
    "    cv=5,\n",
    "    n_jobs=-1,\n",
    "    passthrough=True    # gives meta-model also the original features\n",
    ")\n",
    "\n",
    "stack.fit(X_train, y_train)\n",
    "y_pred = stack.predict(X_test)\n",
    "\n",
    "from sklearn.metrics import accuracy_score, classification_report\n",
    "print(\"Stacking test acc:\", accuracy_score(y_test, y_pred))\n",
    "print(classification_report(y_test, y_pred, digits=4))"
   ]
  },
  {
   "cell_type": "code",
   "execution_count": 17,
   "metadata": {
    "execution": {
     "iopub.execute_input": "2025-05-04T19:45:29.315077Z",
     "iopub.status.busy": "2025-05-04T19:45:29.314657Z",
     "iopub.status.idle": "2025-05-04T19:45:29.649909Z",
     "shell.execute_reply": "2025-05-04T19:45:29.648833Z",
     "shell.execute_reply.started": "2025-05-04T19:45:29.315052Z"
    },
    "trusted": true
   },
   "outputs": [
    {
     "name": "stdout",
     "output_type": "stream",
     "text": [
      "Saved stacking_gender_model.joblib\n"
     ]
    }
   ],
   "source": [
    "import pandas as pd\n",
    "import joblib\n",
    "joblib.dump(stack, \"stacking_gender_model.joblib\")\n",
    "print(\"Saved stacking_gender_model.joblib\")"
   ]
  },
  {
   "cell_type": "code",
   "execution_count": 15,
   "metadata": {
    "execution": {
     "iopub.execute_input": "2025-05-04T19:12:33.917579Z",
     "iopub.status.busy": "2025-05-04T19:12:33.917196Z",
     "iopub.status.idle": "2025-05-04T19:45:15.743429Z",
     "shell.execute_reply": "2025-05-04T19:45:15.741400Z",
     "shell.execute_reply.started": "2025-05-04T19:12:33.917552Z"
    },
    "trusted": true
   },
   "outputs": [
    {
     "ename": "KeyboardInterrupt",
     "evalue": "",
     "output_type": "error",
     "traceback": [
      "\u001b[0;31m---------------------------------------------------------------------------\u001b[0m",
      "\u001b[0;31mKeyboardInterrupt\u001b[0m                         Traceback (most recent call last)",
      "\u001b[0;32m/tmp/ipykernel_31/504060264.py\u001b[0m in \u001b[0;36m<cell line: 0>\u001b[0;34m()\u001b[0m\n\u001b[1;32m      6\u001b[0m }\n\u001b[1;32m      7\u001b[0m \u001b[0mgrid\u001b[0m \u001b[0;34m=\u001b[0m \u001b[0mGridSearchCV\u001b[0m\u001b[0;34m(\u001b[0m\u001b[0mbest_models\u001b[0m\u001b[0;34m[\u001b[0m\u001b[0;34m'KNN_selectK'\u001b[0m\u001b[0;34m]\u001b[0m\u001b[0;34m,\u001b[0m \u001b[0mparam_grid\u001b[0m\u001b[0;34m,\u001b[0m \u001b[0mcv\u001b[0m\u001b[0;34m=\u001b[0m\u001b[0;36m5\u001b[0m\u001b[0;34m,\u001b[0m \u001b[0mn_jobs\u001b[0m\u001b[0;34m=\u001b[0m\u001b[0;34m-\u001b[0m\u001b[0;36m1\u001b[0m\u001b[0;34m)\u001b[0m\u001b[0;34m\u001b[0m\u001b[0;34m\u001b[0m\u001b[0m\n\u001b[0;32m----> 8\u001b[0;31m \u001b[0mgrid\u001b[0m\u001b[0;34m.\u001b[0m\u001b[0mfit\u001b[0m\u001b[0;34m(\u001b[0m\u001b[0mX_train\u001b[0m\u001b[0;34m,\u001b[0m \u001b[0my_train\u001b[0m\u001b[0;34m)\u001b[0m\u001b[0;34m\u001b[0m\u001b[0;34m\u001b[0m\u001b[0m\n\u001b[0m\u001b[1;32m      9\u001b[0m \u001b[0mprint\u001b[0m\u001b[0;34m(\u001b[0m\u001b[0;34m\"Best KNN params:\"\u001b[0m\u001b[0;34m,\u001b[0m \u001b[0mgrid\u001b[0m\u001b[0;34m.\u001b[0m\u001b[0mbest_params_\u001b[0m\u001b[0;34m)\u001b[0m\u001b[0;34m\u001b[0m\u001b[0;34m\u001b[0m\u001b[0m\n\u001b[1;32m     10\u001b[0m \u001b[0mprint\u001b[0m\u001b[0;34m(\u001b[0m\u001b[0;34m\"Best CV acc:\"\u001b[0m\u001b[0;34m,\u001b[0m \u001b[0mgrid\u001b[0m\u001b[0;34m.\u001b[0m\u001b[0mbest_score_\u001b[0m\u001b[0;34m)\u001b[0m\u001b[0;34m\u001b[0m\u001b[0;34m\u001b[0m\u001b[0m\n",
      "\u001b[0;32m/usr/local/lib/python3.11/dist-packages/sklearn/model_selection/_search.py\u001b[0m in \u001b[0;36mfit\u001b[0;34m(self, X, y, groups, **fit_params)\u001b[0m\n\u001b[1;32m    872\u001b[0m                 \u001b[0;32mreturn\u001b[0m \u001b[0mresults\u001b[0m\u001b[0;34m\u001b[0m\u001b[0;34m\u001b[0m\u001b[0m\n\u001b[1;32m    873\u001b[0m \u001b[0;34m\u001b[0m\u001b[0m\n\u001b[0;32m--> 874\u001b[0;31m             \u001b[0mself\u001b[0m\u001b[0;34m.\u001b[0m\u001b[0m_run_search\u001b[0m\u001b[0;34m(\u001b[0m\u001b[0mevaluate_candidates\u001b[0m\u001b[0;34m)\u001b[0m\u001b[0;34m\u001b[0m\u001b[0;34m\u001b[0m\u001b[0m\n\u001b[0m\u001b[1;32m    875\u001b[0m \u001b[0;34m\u001b[0m\u001b[0m\n\u001b[1;32m    876\u001b[0m             \u001b[0;31m# multimetric is determined here because in the case of a callable\u001b[0m\u001b[0;34m\u001b[0m\u001b[0;34m\u001b[0m\u001b[0m\n",
      "\u001b[0;32m/usr/local/lib/python3.11/dist-packages/sklearn/model_selection/_search.py\u001b[0m in \u001b[0;36m_run_search\u001b[0;34m(self, evaluate_candidates)\u001b[0m\n\u001b[1;32m   1386\u001b[0m     \u001b[0;32mdef\u001b[0m \u001b[0m_run_search\u001b[0m\u001b[0;34m(\u001b[0m\u001b[0mself\u001b[0m\u001b[0;34m,\u001b[0m \u001b[0mevaluate_candidates\u001b[0m\u001b[0;34m)\u001b[0m\u001b[0;34m:\u001b[0m\u001b[0;34m\u001b[0m\u001b[0;34m\u001b[0m\u001b[0m\n\u001b[1;32m   1387\u001b[0m         \u001b[0;34m\"\"\"Search all candidates in param_grid\"\"\"\u001b[0m\u001b[0;34m\u001b[0m\u001b[0;34m\u001b[0m\u001b[0m\n\u001b[0;32m-> 1388\u001b[0;31m         \u001b[0mevaluate_candidates\u001b[0m\u001b[0;34m(\u001b[0m\u001b[0mParameterGrid\u001b[0m\u001b[0;34m(\u001b[0m\u001b[0mself\u001b[0m\u001b[0;34m.\u001b[0m\u001b[0mparam_grid\u001b[0m\u001b[0;34m)\u001b[0m\u001b[0;34m)\u001b[0m\u001b[0;34m\u001b[0m\u001b[0;34m\u001b[0m\u001b[0m\n\u001b[0m\u001b[1;32m   1389\u001b[0m \u001b[0;34m\u001b[0m\u001b[0m\n\u001b[1;32m   1390\u001b[0m \u001b[0;34m\u001b[0m\u001b[0m\n",
      "\u001b[0;32m/usr/local/lib/python3.11/dist-packages/sklearn/model_selection/_search.py\u001b[0m in \u001b[0;36mevaluate_candidates\u001b[0;34m(candidate_params, cv, more_results)\u001b[0m\n\u001b[1;32m    819\u001b[0m                     )\n\u001b[1;32m    820\u001b[0m \u001b[0;34m\u001b[0m\u001b[0m\n\u001b[0;32m--> 821\u001b[0;31m                 out = parallel(\n\u001b[0m\u001b[1;32m    822\u001b[0m                     delayed(_fit_and_score)(\n\u001b[1;32m    823\u001b[0m                         \u001b[0mclone\u001b[0m\u001b[0;34m(\u001b[0m\u001b[0mbase_estimator\u001b[0m\u001b[0;34m)\u001b[0m\u001b[0;34m,\u001b[0m\u001b[0;34m\u001b[0m\u001b[0;34m\u001b[0m\u001b[0m\n",
      "\u001b[0;32m/usr/local/lib/python3.11/dist-packages/sklearn/utils/parallel.py\u001b[0m in \u001b[0;36m__call__\u001b[0;34m(self, iterable)\u001b[0m\n\u001b[1;32m     61\u001b[0m             \u001b[0;32mfor\u001b[0m \u001b[0mdelayed_func\u001b[0m\u001b[0;34m,\u001b[0m \u001b[0margs\u001b[0m\u001b[0;34m,\u001b[0m \u001b[0mkwargs\u001b[0m \u001b[0;32min\u001b[0m \u001b[0miterable\u001b[0m\u001b[0;34m\u001b[0m\u001b[0;34m\u001b[0m\u001b[0m\n\u001b[1;32m     62\u001b[0m         )\n\u001b[0;32m---> 63\u001b[0;31m         \u001b[0;32mreturn\u001b[0m \u001b[0msuper\u001b[0m\u001b[0;34m(\u001b[0m\u001b[0;34m)\u001b[0m\u001b[0;34m.\u001b[0m\u001b[0m__call__\u001b[0m\u001b[0;34m(\u001b[0m\u001b[0miterable_with_config\u001b[0m\u001b[0;34m)\u001b[0m\u001b[0;34m\u001b[0m\u001b[0;34m\u001b[0m\u001b[0m\n\u001b[0m\u001b[1;32m     64\u001b[0m \u001b[0;34m\u001b[0m\u001b[0m\n\u001b[1;32m     65\u001b[0m \u001b[0;34m\u001b[0m\u001b[0m\n",
      "\u001b[0;32m/usr/local/lib/python3.11/dist-packages/joblib/parallel.py\u001b[0m in \u001b[0;36m__call__\u001b[0;34m(self, iterable)\u001b[0m\n\u001b[1;32m   2005\u001b[0m         \u001b[0mnext\u001b[0m\u001b[0;34m(\u001b[0m\u001b[0moutput\u001b[0m\u001b[0;34m)\u001b[0m\u001b[0;34m\u001b[0m\u001b[0;34m\u001b[0m\u001b[0m\n\u001b[1;32m   2006\u001b[0m \u001b[0;34m\u001b[0m\u001b[0m\n\u001b[0;32m-> 2007\u001b[0;31m         \u001b[0;32mreturn\u001b[0m \u001b[0moutput\u001b[0m \u001b[0;32mif\u001b[0m \u001b[0mself\u001b[0m\u001b[0;34m.\u001b[0m\u001b[0mreturn_generator\u001b[0m \u001b[0;32melse\u001b[0m \u001b[0mlist\u001b[0m\u001b[0;34m(\u001b[0m\u001b[0moutput\u001b[0m\u001b[0;34m)\u001b[0m\u001b[0;34m\u001b[0m\u001b[0;34m\u001b[0m\u001b[0m\n\u001b[0m\u001b[1;32m   2008\u001b[0m \u001b[0;34m\u001b[0m\u001b[0m\n\u001b[1;32m   2009\u001b[0m     \u001b[0;32mdef\u001b[0m \u001b[0m__repr__\u001b[0m\u001b[0;34m(\u001b[0m\u001b[0mself\u001b[0m\u001b[0;34m)\u001b[0m\u001b[0;34m:\u001b[0m\u001b[0;34m\u001b[0m\u001b[0;34m\u001b[0m\u001b[0m\n",
      "\u001b[0;32m/usr/local/lib/python3.11/dist-packages/joblib/parallel.py\u001b[0m in \u001b[0;36m_get_outputs\u001b[0;34m(self, iterator, pre_dispatch)\u001b[0m\n\u001b[1;32m   1648\u001b[0m \u001b[0;34m\u001b[0m\u001b[0m\n\u001b[1;32m   1649\u001b[0m             \u001b[0;32mwith\u001b[0m \u001b[0mself\u001b[0m\u001b[0;34m.\u001b[0m\u001b[0m_backend\u001b[0m\u001b[0;34m.\u001b[0m\u001b[0mretrieval_context\u001b[0m\u001b[0;34m(\u001b[0m\u001b[0;34m)\u001b[0m\u001b[0;34m:\u001b[0m\u001b[0;34m\u001b[0m\u001b[0;34m\u001b[0m\u001b[0m\n\u001b[0;32m-> 1650\u001b[0;31m                 \u001b[0;32myield\u001b[0m \u001b[0;32mfrom\u001b[0m \u001b[0mself\u001b[0m\u001b[0;34m.\u001b[0m\u001b[0m_retrieve\u001b[0m\u001b[0;34m(\u001b[0m\u001b[0;34m)\u001b[0m\u001b[0;34m\u001b[0m\u001b[0;34m\u001b[0m\u001b[0m\n\u001b[0m\u001b[1;32m   1651\u001b[0m \u001b[0;34m\u001b[0m\u001b[0m\n\u001b[1;32m   1652\u001b[0m         \u001b[0;32mexcept\u001b[0m \u001b[0mGeneratorExit\u001b[0m\u001b[0;34m:\u001b[0m\u001b[0;34m\u001b[0m\u001b[0;34m\u001b[0m\u001b[0m\n",
      "\u001b[0;32m/usr/local/lib/python3.11/dist-packages/joblib/parallel.py\u001b[0m in \u001b[0;36m_retrieve\u001b[0;34m(self)\u001b[0m\n\u001b[1;32m   1760\u001b[0m                 (self._jobs[0].get_status(\n\u001b[1;32m   1761\u001b[0m                     timeout=self.timeout) == TASK_PENDING)):\n\u001b[0;32m-> 1762\u001b[0;31m                 \u001b[0mtime\u001b[0m\u001b[0;34m.\u001b[0m\u001b[0msleep\u001b[0m\u001b[0;34m(\u001b[0m\u001b[0;36m0.01\u001b[0m\u001b[0;34m)\u001b[0m\u001b[0;34m\u001b[0m\u001b[0;34m\u001b[0m\u001b[0m\n\u001b[0m\u001b[1;32m   1763\u001b[0m                 \u001b[0;32mcontinue\u001b[0m\u001b[0;34m\u001b[0m\u001b[0;34m\u001b[0m\u001b[0m\n\u001b[1;32m   1764\u001b[0m \u001b[0;34m\u001b[0m\u001b[0m\n",
      "\u001b[0;31mKeyboardInterrupt\u001b[0m: "
     ]
    }
   ],
   "source": [
    "param_grid = {\n",
    "    'knn__n_neighbors': [1,3,5,7,9,11,13,15],\n",
    "    'knn__weights':     ['uniform','distance'],\n",
    "    'knn__algorithm':   ['auto','ball_tree','kd_tree'],\n",
    "    'knn__leaf_size':   [20,30,40,50]\n",
    "}\n",
    "grid = GridSearchCV(best_models['KNN_selectK'], param_grid, cv=5, n_jobs=-1)\n",
    "grid.fit(X_train, y_train)\n",
    "print(\"Best KNN params:\", grid.best_params_)\n",
    "print(\"Best CV acc:\", grid.best_score_)"
   ]
  },
  {
   "cell_type": "code",
   "execution_count": null,
   "metadata": {
    "execution": {
     "iopub.status.busy": "2025-05-04T19:45:15.744158Z",
     "iopub.status.idle": "2025-05-04T19:45:15.744454Z",
     "shell.execute_reply": "2025-05-04T19:45:15.744333Z",
     "shell.execute_reply.started": "2025-05-04T19:45:15.744320Z"
    },
    "trusted": true
   },
   "outputs": [],
   "source": [
    "from sklearn.ensemble       import StackingClassifier\n",
    "from sklearn.linear_model  import LogisticRegression\n",
    "from sklearn.pipeline      import Pipeline\n",
    "from sklearn.preprocessing import StandardScaler\n",
    "\n",
    "# rebuild your base estimators\n",
    "xgb_clf = xgb.XGBClassifier(\n",
    "    **best_params,\n",
    "    objective='binary:logistic',\n",
    "    eval_metric='logloss',\n",
    "    random_state=42,\n",
    "    n_jobs=-1\n",
    ")\n",
    "\n",
    "stack = StackingClassifier(\n",
    "    estimators=[\n",
    "        ('knn', best_models['KNN_selectK']),\n",
    "        ('xgb', xgb_clf),\n",
    "        ('rf',  RandomForestClassifier(n_estimators=200, random_state=42, n_jobs=-1))\n",
    "    ],\n",
    "    # wrap the final estimator in a pipeline that scales + gives more iters\n",
    "    final_estimator=Pipeline([\n",
    "        ('scaler', StandardScaler()),\n",
    "        ('lr',     LogisticRegression(\n",
    "                       solver='saga',       # faster on large data\n",
    "                       max_iter=5000,       # plenty of room to converge\n",
    "                       C=1.0,\n",
    "                       random_state=42\n",
    "                   ))\n",
    "    ]),\n",
    "    cv=5,\n",
    "    n_jobs=-1,\n",
    "    passthrough=True\n",
    ")\n",
    "\n",
    "stack.fit(X_train, y_train)\n",
    "y_pred = stack.predict(X_test)\n",
    "\n",
    "from sklearn.metrics import accuracy_score, classification_report\n",
    "print(\"Stacking test acc:\", accuracy_score(y_test, y_pred))\n",
    "print(classification_report(y_test, y_pred, digits=4))"
   ]
  },
  {
   "cell_type": "code",
   "execution_count": 1,
   "metadata": {
    "execution": {
     "iopub.execute_input": "2025-05-04T20:59:05.704457Z",
     "iopub.status.busy": "2025-05-04T20:59:05.703797Z",
     "iopub.status.idle": "2025-05-04T20:59:06.057479Z",
     "shell.execute_reply": "2025-05-04T20:59:06.056697Z",
     "shell.execute_reply.started": "2025-05-04T20:59:05.704425Z"
    },
    "trusted": true
   },
   "outputs": [],
   "source": [
    "import pandas as pd\n",
    "import joblib\n",
    "from IPython.display import FileLink"
   ]
  },
  {
   "cell_type": "code",
   "execution_count": null,
   "metadata": {
    "execution": {
     "iopub.execute_input": "2025-05-04T21:01:42.955509Z",
     "iopub.status.busy": "2025-05-04T21:01:42.955124Z",
     "iopub.status.idle": "2025-05-04T21:02:15.658034Z",
     "shell.execute_reply": "2025-05-04T21:02:15.657244Z",
     "shell.execute_reply.started": "2025-05-04T21:01:42.955481Z"
    },
    "trusted": true
   },
   "outputs": [
    {
     "name": "stdout",
     "output_type": "stream",
     "text": [
      "Gender DF shape: (172158, 179)\n",
      "Age    DF shape: (172158, 217)\n"
     ]
    }
   ],
   "source": [
    "gender_df = pd.read_csv(\n",
    "    '/kaggle/input/features-with-labels-csv/features_with_labels.csv',\n",
    "    dtype={'path': str},       \n",
    "    low_memory=False\n",
    ")\n",
    "\n",
    "# Age features\n",
    "age_df = pd.read_csv(\n",
    "    '/kaggle/input/data-with-features/data_with_features.csv',\n",
    "    dtype={'path': str},       \n",
    "    low_memory=False\n",
    ")\n",
    "\n",
    "print(\"Gender DF shape:\", gender_df.shape)\n",
    "print(\"Age    DF shape:\", age_df.shape)"
   ]
  },
  {
   "cell_type": "code",
   "execution_count": null,
   "metadata": {
    "execution": {
     "iopub.execute_input": "2025-05-04T21:02:19.961076Z",
     "iopub.status.busy": "2025-05-04T21:02:19.960752Z",
     "iopub.status.idle": "2025-05-04T21:02:20.406858Z",
     "shell.execute_reply": "2025-05-04T21:02:20.406043Z",
     "shell.execute_reply.started": "2025-05-04T21:02:19.961051Z"
    },
    "trusted": true
   },
   "outputs": [
    {
     "name": "stdout",
     "output_type": "stream",
     "text": [
      "Merged shape: (172158, 395)\n"
     ]
    }
   ],
   "source": [
    "merged = pd.merge(\n",
    "    gender_df,\n",
    "    age_df,\n",
    "    on='path',\n",
    "    how='inner'  \n",
    ")\n",
    "print(\"Merged shape:\", merged.shape)"
   ]
  },
  {
   "cell_type": "code",
   "execution_count": 6,
   "metadata": {
    "execution": {
     "iopub.execute_input": "2025-05-04T21:03:02.773503Z",
     "iopub.status.busy": "2025-05-04T21:03:02.772827Z",
     "iopub.status.idle": "2025-05-04T21:03:02.779690Z",
     "shell.execute_reply": "2025-05-04T21:03:02.778733Z",
     "shell.execute_reply.started": "2025-05-04T21:03:02.773475Z"
    },
    "trusted": true
   },
   "outputs": [],
   "source": [
    "gender_features = [\n",
    "  'gender_f0_mean','gender_f0_std',\n",
    "  'gender_formant_1','gender_formant_2','gender_formant_3',\n",
    "  'gender_mfcc_0','gender_mfcc_1','gender_mfcc_2','gender_mfcc_3',\n",
    "  'gender_mfcc_4','gender_mfcc_5','gender_mfcc_6','gender_mfcc_7',\n",
    "  'gender_mfcc_8','gender_mfcc_9','gender_mfcc_10','gender_mfcc_11',\n",
    "  'gender_mfcc_12',\n",
    "  'gender_mfcc_d_0','gender_mfcc_d_1','gender_mfcc_d_2','gender_mfcc_d_3',\n",
    "  'gender_mfcc_d_4','gender_mfcc_d_5','gender_mfcc_d_6','gender_mfcc_d_7',\n",
    "  'gender_mfcc_d_8','gender_mfcc_d_9','gender_mfcc_d_10','gender_mfcc_d_11',\n",
    "  'gender_mfcc_d_12',\n",
    "  'gender_spec_contrast_0','gender_spec_contrast_1','gender_spec_contrast_2',\n",
    "  'gender_spec_contrast_3','gender_spec_contrast_4','gender_spec_contrast_5',\n",
    "  'gender_spec_contrast_6',\n",
    "  'gender_chroma_0','gender_chroma_1','gender_chroma_2','gender_chroma_3',\n",
    "  'gender_chroma_4','gender_chroma_5','gender_chroma_6','gender_chroma_7',\n",
    "  'gender_chroma_8','gender_chroma_9','gender_chroma_10','gender_chroma_11'\n",
    "]"
   ]
  },
  {
   "cell_type": "code",
   "execution_count": 7,
   "metadata": {
    "execution": {
     "iopub.execute_input": "2025-05-04T21:04:04.181377Z",
     "iopub.status.busy": "2025-05-04T21:04:04.181044Z",
     "iopub.status.idle": "2025-05-04T21:04:04.191842Z",
     "shell.execute_reply": "2025-05-04T21:04:04.190773Z",
     "shell.execute_reply.started": "2025-05-04T21:04:04.181354Z"
    },
    "trusted": true
   },
   "outputs": [],
   "source": [
    "age_features = [\n",
    "    # MFCC means 0–39\n",
    "    'mfcc_mean_0', 'mfcc_mean_1', 'mfcc_mean_2', 'mfcc_mean_3',\n",
    "    'mfcc_mean_4', 'mfcc_mean_5', 'mfcc_mean_6', 'mfcc_mean_7',\n",
    "    'mfcc_mean_8', 'mfcc_mean_9', 'mfcc_mean_10', 'mfcc_mean_11',\n",
    "    'mfcc_mean_12', 'mfcc_mean_13', 'mfcc_mean_14', 'mfcc_mean_15',\n",
    "    'mfcc_mean_16', 'mfcc_mean_17', 'mfcc_mean_18', 'mfcc_mean_19',\n",
    "    'mfcc_mean_20', 'mfcc_mean_21', 'mfcc_mean_22', 'mfcc_mean_23',\n",
    "    'mfcc_mean_24', 'mfcc_mean_25', 'mfcc_mean_26', 'mfcc_mean_27',\n",
    "    'mfcc_mean_28', 'mfcc_mean_29', 'mfcc_mean_30', 'mfcc_mean_31',\n",
    "    'mfcc_mean_32', 'mfcc_mean_33', 'mfcc_mean_34', 'mfcc_mean_35',\n",
    "    'mfcc_mean_36', 'mfcc_mean_37', 'mfcc_mean_38', 'mfcc_mean_39',\n",
    "\n",
    "    # MFCC vars 0–39\n",
    "    'mfcc_var_0', 'mfcc_var_1', 'mfcc_var_2', 'mfcc_var_3',\n",
    "    'mfcc_var_4', 'mfcc_var_5', 'mfcc_var_6', 'mfcc_var_7',\n",
    "    'mfcc_var_8', 'mfcc_var_9', 'mfcc_var_10', 'mfcc_var_11',\n",
    "    'mfcc_var_12', 'mfcc_var_13', 'mfcc_var_14', 'mfcc_var_15',\n",
    "    'mfcc_var_16', 'mfcc_var_17', 'mfcc_var_18', 'mfcc_var_19',\n",
    "    'mfcc_var_20', 'mfcc_var_21', 'mfcc_var_22', 'mfcc_var_23',\n",
    "    'mfcc_var_24', 'mfcc_var_25', 'mfcc_var_26', 'mfcc_var_27',\n",
    "    'mfcc_var_28', 'mfcc_var_29', 'mfcc_var_30', 'mfcc_var_31',\n",
    "    'mfcc_var_32', 'mfcc_var_33', 'mfcc_var_34', 'mfcc_var_35',\n",
    "    'mfcc_var_36', 'mfcc_var_37', 'mfcc_var_38', 'mfcc_var_39',\n",
    "\n",
    "    # Mel-spec means 0–63\n",
    "    'melspec_mean_0',  'melspec_mean_1',  'melspec_mean_2',  'melspec_mean_3',\n",
    "    'melspec_mean_4',  'melspec_mean_5',  'melspec_mean_6',  'melspec_mean_7',\n",
    "    'melspec_mean_8',  'melspec_mean_9',  'melspec_mean_10', 'melspec_mean_11',\n",
    "    'melspec_mean_12', 'melspec_mean_13', 'melspec_mean_14', 'melspec_mean_15',\n",
    "    'melspec_mean_16', 'melspec_mean_17', 'melspec_mean_18', 'melspec_mean_19',\n",
    "    'melspec_mean_20', 'melspec_mean_21', 'melspec_mean_22', 'melspec_mean_23',\n",
    "    'melspec_mean_24', 'melspec_mean_25', 'melspec_mean_26', 'melspec_mean_27',\n",
    "    'melspec_mean_28', 'melspec_mean_29', 'melspec_mean_30', 'melspec_mean_31',\n",
    "    'melspec_mean_32', 'melspec_mean_33', 'melspec_mean_34', 'melspec_mean_35',\n",
    "    'melspec_mean_36', 'melspec_mean_37', 'melspec_mean_38', 'melspec_mean_39',\n",
    "    'melspec_mean_40', 'melspec_mean_41', 'melspec_mean_42', 'melspec_mean_43',\n",
    "    'melspec_mean_44', 'melspec_mean_45', 'melspec_mean_46', 'melspec_mean_47',\n",
    "    'melspec_mean_48', 'melspec_mean_49', 'melspec_mean_50', 'melspec_mean_51',\n",
    "    'melspec_mean_52', 'melspec_mean_53', 'melspec_mean_54', 'melspec_mean_55',\n",
    "    'melspec_mean_56', 'melspec_mean_57', 'melspec_mean_58', 'melspec_mean_59',\n",
    "    'melspec_mean_60', 'melspec_mean_61', 'melspec_mean_62', 'melspec_mean_63',\n",
    "\n",
    "    # Mel-spec vars 0–63\n",
    "    'melspec_var_0',  'melspec_var_1',  'melspec_var_2',  'melspec_var_3',\n",
    "    'melspec_var_4',  'melspec_var_5',  'melspec_var_6',  'melspec_var_7',\n",
    "    'melspec_var_8',  'melspec_var_9',  'melspec_var_10', 'melspec_var_11',\n",
    "    'melspec_var_12', 'melspec_var_13', 'melspec_var_14', 'melspec_var_15',\n",
    "    'melspec_var_16', 'melspec_var_17', 'melspec_var_18', 'melspec_var_19',\n",
    "    'melspec_var_20', 'melspec_var_21', 'melspec_var_22', 'melspec_var_23',\n",
    "    'melspec_var_24', 'melspec_var_25', 'melspec_var_26', 'melspec_var_27',\n",
    "    'melspec_var_28', 'melspec_var_29', 'melspec_var_30', 'melspec_var_31',\n",
    "    'melspec_var_32', 'melspec_var_33', 'melspec_var_34', 'melspec_var_35',\n",
    "    'melspec_var_36', 'melspec_var_37', 'melspec_var_38', 'melspec_var_39',\n",
    "    'melspec_var_40', 'melspec_var_41', 'melspec_var_42', 'melspec_var_43',\n",
    "    'melspec_var_44', 'melspec_var_45', 'melspec_var_46', 'melspec_var_47',\n",
    "    'melspec_var_48', 'melspec_var_49', 'melspec_var_50', 'melspec_var_51',\n",
    "    'melspec_var_52', 'melspec_var_53', 'melspec_var_54', 'melspec_var_55',\n",
    "    'melspec_var_56', 'melspec_var_57', 'melspec_var_58', 'melspec_var_59',\n",
    "    'melspec_var_60', 'melspec_var_61', 'melspec_var_62', 'melspec_var_63'\n",
    "]\n"
   ]
  },
  {
   "cell_type": "code",
   "execution_count": 9,
   "metadata": {
    "execution": {
     "iopub.execute_input": "2025-05-04T21:23:19.244321Z",
     "iopub.status.busy": "2025-05-04T21:23:19.243481Z",
     "iopub.status.idle": "2025-05-04T21:23:22.951808Z",
     "shell.execute_reply": "2025-05-04T21:23:22.950801Z",
     "shell.execute_reply.started": "2025-05-04T21:23:19.244277Z"
    },
    "trusted": true
   },
   "outputs": [
    {
     "name": "stderr",
     "output_type": "stream",
     "text": [
      "/usr/local/lib/python3.11/dist-packages/sklearn/base.py:318: UserWarning: Trying to unpickle estimator StandardScaler from version 1.2.1 when using version 1.2.2. This might lead to breaking code or invalid results. Use at your own risk. For more info please refer to:\n",
      "https://scikit-learn.org/stable/model_persistence.html#security-maintainability-limitations\n",
      "  warnings.warn(\n",
      "/usr/local/lib/python3.11/dist-packages/sklearn/base.py:318: UserWarning: Trying to unpickle estimator KNeighborsClassifier from version 1.2.1 when using version 1.2.2. This might lead to breaking code or invalid results. Use at your own risk. For more info please refer to:\n",
      "https://scikit-learn.org/stable/model_persistence.html#security-maintainability-limitations\n",
      "  warnings.warn(\n",
      "/usr/local/lib/python3.11/dist-packages/sklearn/base.py:318: UserWarning: Trying to unpickle estimator Pipeline from version 1.2.1 when using version 1.2.2. This might lead to breaking code or invalid results. Use at your own risk. For more info please refer to:\n",
      "https://scikit-learn.org/stable/model_persistence.html#security-maintainability-limitations\n",
      "  warnings.warn(\n",
      "/usr/local/lib/python3.11/dist-packages/sklearn/base.py:318: UserWarning: Trying to unpickle estimator PCA from version 1.2.1 when using version 1.2.2. This might lead to breaking code or invalid results. Use at your own risk. For more info please refer to:\n",
      "https://scikit-learn.org/stable/model_persistence.html#security-maintainability-limitations\n",
      "  warnings.warn(\n"
     ]
    }
   ],
   "source": [
    "stack_gender = joblib.load('/kaggle/input/stacking/stacking_gender_model.joblib')\n",
    "male_age     = joblib.load('/kaggle/input/data-with-features/male_KNN_baseline_male.joblib')\n",
    "female_age   = joblib.load('/kaggle/input/data-with-features/female_KNN_pca_female.joblib')"
   ]
  },
  {
   "cell_type": "code",
   "execution_count": 10,
   "metadata": {
    "execution": {
     "iopub.execute_input": "2025-05-04T21:24:12.878592Z",
     "iopub.status.busy": "2025-05-04T21:24:12.878106Z",
     "iopub.status.idle": "2025-05-04T21:24:45.772752Z",
     "shell.execute_reply": "2025-05-04T21:24:45.771803Z",
     "shell.execute_reply.started": "2025-05-04T21:24:12.878567Z"
    },
    "trusted": true
   },
   "outputs": [],
   "source": [
    "merged['predicted_gender'] = stack_gender.predict(merged[gender_features])"
   ]
  },
  {
   "cell_type": "code",
   "execution_count": 19,
   "metadata": {
    "execution": {
     "iopub.execute_input": "2025-05-04T21:51:14.567022Z",
     "iopub.status.busy": "2025-05-04T21:51:14.566617Z",
     "iopub.status.idle": "2025-05-04T21:57:10.798158Z",
     "shell.execute_reply": "2025-05-04T21:57:10.797253Z",
     "shell.execute_reply.started": "2025-05-04T21:51:14.566998Z"
    },
    "trusted": true
   },
   "outputs": [
    {
     "name": "stderr",
     "output_type": "stream",
     "text": [
      "/usr/local/lib/python3.11/dist-packages/sklearn/base.py:432: UserWarning: X has feature names, but StandardScaler was fitted without feature names\n",
      "  warnings.warn(\n",
      "/usr/local/lib/python3.11/dist-packages/sklearn/base.py:432: UserWarning: X has feature names, but StandardScaler was fitted without feature names\n",
      "  warnings.warn(\n"
     ]
    }
   ],
   "source": [
    "merged['predicted_age'] = None\n",
    "\n",
    "male_mask   = merged['predicted_gender'] == 1\n",
    "female_mask = merged['predicted_gender'] == 0\n",
    "\n",
    "merged.loc[male_mask,   'predicted_age'] = male_age.predict(merged.loc[male_mask, age_features])\n",
    "merged.loc[female_mask, 'predicted_age'] = female_age.predict(merged.loc[female_mask, age_features])"
   ]
  },
  {
   "cell_type": "code",
   "execution_count": 12,
   "metadata": {
    "execution": {
     "iopub.execute_input": "2025-05-04T21:27:54.634799Z",
     "iopub.status.busy": "2025-05-04T21:27:54.633935Z",
     "iopub.status.idle": "2025-05-04T21:29:37.240329Z",
     "shell.execute_reply": "2025-05-04T21:29:37.239541Z",
     "shell.execute_reply.started": "2025-05-04T21:27:54.634758Z"
    },
    "trusted": true
   },
   "outputs": [
    {
     "name": "stdout",
     "output_type": "stream",
     "text": [
      "Wrote: full_gender_age_predictions.csv\n"
     ]
    }
   ],
   "source": [
    "out_csv = \"full_gender_age_predictions.csv\"\n",
    "merged.to_csv(out_csv, index=False)\n",
    "print(\"Wrote:\", out_csv)"
   ]
  },
  {
   "cell_type": "code",
   "execution_count": 30,
   "metadata": {
    "execution": {
     "iopub.execute_input": "2025-05-04T22:11:55.449817Z",
     "iopub.status.busy": "2025-05-04T22:11:55.448615Z",
     "iopub.status.idle": "2025-05-04T22:11:55.900451Z",
     "shell.execute_reply": "2025-05-04T22:11:55.899423Z",
     "shell.execute_reply.started": "2025-05-04T22:11:55.449786Z"
    },
    "trusted": true
   },
   "outputs": [
    {
     "name": "stdout",
     "output_type": "stream",
     "text": [
      "Gender Accuracy: 0.9713\n",
      "              precision    recall  f1-score   support\n",
      "\n",
      "      Female     0.8837    0.9895    0.9336     35166\n",
      "        Male     0.9972    0.9666    0.9817    136992\n",
      "\n",
      "    accuracy                         0.9713    172158\n",
      "   macro avg     0.9405    0.9780    0.9576    172158\n",
      "weighted avg     0.9740    0.9713    0.9718    172158\n",
      "\n",
      "Age Accuracy:    0.9812\n",
      "              precision    recall  f1-score   support\n",
      "\n",
      "         50s     0.9341    0.9705    0.9519     33117\n",
      "         20s     0.9929    0.9837    0.9883    139041\n",
      "\n",
      "    accuracy                         0.9812    172158\n",
      "   macro avg     0.9635    0.9771    0.9701    172158\n",
      "weighted avg     0.9816    0.9812    0.9813    172158\n",
      "\n"
     ]
    }
   ],
   "source": [
    "from sklearn.metrics import accuracy_score, classification_report\n",
    "\n",
    "# 1) Gender accuracy\n",
    "g_true = merged['gender_x']\n",
    "g_pred = merged['predicted_gender'].astype(int)\n",
    "print(f\"Gender Accuracy: {accuracy_score(g_true, g_pred):.4f}\")\n",
    "print(classification_report(g_true, g_pred, target_names=['Female','Male'], digits=4))\n",
    "\n",
    "# 2) Age accuracy\n",
    "a_true = merged['age_x']\n",
    "a_pred = merged['predicted_age'].astype(int)\n",
    "print(f\"Age Accuracy:    {accuracy_score(a_true, a_pred):.4f}\")\n",
    "print(classification_report(a_true, a_pred, target_names=['50s','20s'], digits=4))\n"
   ]
  },
  {
   "cell_type": "code",
   "execution_count": 27,
   "metadata": {
    "execution": {
     "iopub.execute_input": "2025-05-04T22:05:06.319996Z",
     "iopub.status.busy": "2025-05-04T22:05:06.319269Z",
     "iopub.status.idle": "2025-05-04T22:05:06.495778Z",
     "shell.execute_reply": "2025-05-04T22:05:06.494887Z",
     "shell.execute_reply.started": "2025-05-04T22:05:06.319970Z"
    },
    "trusted": true
   },
   "outputs": [
    {
     "name": "stdout",
     "output_type": "stream",
     "text": [
      "Combined Accuracy: 0.9636206275630526\n",
      "              precision    recall  f1-score   support\n",
      "\n",
      "    Male-20s     0.9926    0.9615    0.9768    119700\n",
      "  Female-20s     0.8651    0.9753    0.9169     19341\n",
      "    Male-50s     0.9737    0.9481    0.9607     17292\n",
      "  Female-50s     0.8849    0.9824    0.9311     15825\n",
      "\n",
      "    accuracy                         0.9636    172158\n",
      "   macro avg     0.9291    0.9668    0.9464    172158\n",
      "weighted avg     0.9665    0.9636    0.9643    172158\n",
      "\n"
     ]
    }
   ],
   "source": [
    "import numpy as np\n",
    "from sklearn.metrics import accuracy_score, classification_report\n",
    "\n",
    "# 1) Initialize an array of the right shape\n",
    "combined_pred = np.empty_like(g_pred, dtype=int)\n",
    "\n",
    "# 2) Male, Twenties → 0\n",
    "mask = (g_pred == 1) & (a_pred == 1)\n",
    "combined_pred[mask] = 0\n",
    "\n",
    "# 3) Female, Twenties → 1\n",
    "mask = (g_pred == 0) & (a_pred == 1)\n",
    "combined_pred[mask] = 1\n",
    "\n",
    "# 4) Male, Fifties → 2\n",
    "mask = (g_pred == 1) & (a_pred == 0)\n",
    "combined_pred[mask] = 2\n",
    "\n",
    "# 5) Female, Fifties → 3\n",
    "mask = (g_pred == 0) & (a_pred == 0)\n",
    "combined_pred[mask] = 3\n",
    "\n",
    "# 6) Evaluate\n",
    "print(\"Combined Accuracy:\", accuracy_score(y_true, combined_pred))\n",
    "print(classification_report(\n",
    "    y_true, combined_pred,\n",
    "    target_names=['Male-20s','Female-20s','Male-50s','Female-50s'],\n",
    "    digits=4\n",
    "))"
   ]
  },
  {
   "cell_type": "code",
   "execution_count": 28,
   "metadata": {
    "execution": {
     "iopub.execute_input": "2025-05-04T22:08:40.118052Z",
     "iopub.status.busy": "2025-05-04T22:08:40.117086Z",
     "iopub.status.idle": "2025-05-04T22:08:40.457981Z",
     "shell.execute_reply": "2025-05-04T22:08:40.457120Z",
     "shell.execute_reply.started": "2025-05-04T22:08:40.118023Z"
    },
    "trusted": true
   },
   "outputs": [
    {
     "data": {
      "image/png": "[encoded data removed]",
      "text/plain": [
       "<Figure size 600x600 with 1 Axes>"
      ]
     },
     "metadata": {},
     "output_type": "display_data"
    }
   ],
   "source": [
    "from sklearn.metrics import confusion_matrix\n",
    "import matplotlib.pyplot as plt\n",
    "\n",
    "# Compute confusion matrix\n",
    "cm = confusion_matrix(y_true, combined_pred)\n",
    "\n",
    "# Class names in your label order\n",
    "labels = ['Male-20s','Female-20s','Male-50s','Female-50s']\n",
    "\n",
    "# Plot\n",
    "plt.figure(figsize=(6,6))\n",
    "plt.imshow(cm, interpolation='nearest')\n",
    "plt.title('Combined Gender/Age Confusion Matrix')\n",
    "plt.xlabel('Predicted label')\n",
    "plt.ylabel('True label')\n",
    "plt.xticks(range(len(labels)), labels, rotation=45)\n",
    "plt.yticks(range(len(labels)), labels)\n",
    "\n",
    "# Annotate each cell with its count\n",
    "for i in range(cm.shape[0]):\n",
    "    for j in range(cm.shape[1]):\n",
    "        plt.text(j, i, cm[i, j],\n",
    "                 horizontalalignment='center',\n",
    "                 verticalalignment='center')\n",
    "\n",
    "plt.tight_layout()\n",
    "plt.show()\n"
   ]
  },
  {
   "cell_type": "code",
   "execution_count": 29,
   "metadata": {
    "execution": {
     "iopub.execute_input": "2025-05-04T22:10:09.491918Z",
     "iopub.status.busy": "2025-05-04T22:10:09.490948Z",
     "iopub.status.idle": "2025-05-04T22:10:10.188233Z",
     "shell.execute_reply": "2025-05-04T22:10:10.187323Z",
     "shell.execute_reply.started": "2025-05-04T22:10:09.491887Z"
    },
    "trusted": true
   },
   "outputs": [
    {
     "data": {
      "image/png": "[encoded data removed]",
      "text/plain": [
       "<Figure size 600x600 with 2 Axes>"
      ]
     },
     "metadata": {},
     "output_type": "display_data"
    }
   ],
   "source": [
    "import seaborn as sns\n",
    "import matplotlib.pyplot as plt\n",
    "from sklearn.metrics import confusion_matrix\n",
    "\n",
    "# assume y_true and combined_pred are already defined\n",
    "labels = ['Male-20s','Female-20s','Male-50s','Female-50s']\n",
    "cm = confusion_matrix(y_true, combined_pred)\n",
    "\n",
    "plt.figure(figsize=(6,6))\n",
    "sns.heatmap(\n",
    "    cm,\n",
    "    annot=True,\n",
    "    fmt=\"d\",\n",
    "    cmap=\"Blues\",\n",
    "    xticklabels=labels,\n",
    "    yticklabels=labels,\n",
    "    cbar=True,\n",
    "    linewidths=0.5,\n",
    "    linecolor=\"white\"\n",
    ")\n",
    "plt.title(\"Combined Gender/Age Confusion Matrix\")\n",
    "plt.ylabel(\"True Label\")\n",
    "plt.xlabel(\"Predicted Label\")\n",
    "plt.yticks(rotation=0)\n",
    "plt.xticks(rotation=45)\n",
    "plt.tight_layout()\n",
    "plt.show()\n"
   ]
  }
 ],
 "metadata": {
  "kaggle": {
   "accelerator": "none",
   "dataSources": [
    {
     "datasetId": 7296470,
     "sourceId": 11629625,
     "sourceType": "datasetVersion"
    },
    {
     "datasetId": 7328976,
     "sourceId": 11677238,
     "sourceType": "datasetVersion"
    },
    {
     "datasetId": 7329095,
     "sourceId": 11677403,
     "sourceType": "datasetVersion"
    }
   ],
   "dockerImageVersionId": 31012,
   "isGpuEnabled": false,
   "isInternetEnabled": true,
   "language": "python",
   "sourceType": "notebook"
  },
  "kernelspec": {
   "display_name": "Python 3",
   "language": "python",
   "name": "python3"
  },
  "language_info": {
   "codemirror_mode": {
    "name": "ipython",
    "version": 3
   },
   "file_extension": ".py",
   "mimetype": "text/x-python",
   "name": "python",
   "nbconvert_exporter": "python",
   "pygments_lexer": "ipython3",
   "version": "3.11.11"
  }
 },
 "nbformat": 4,
 "nbformat_minor": 4
}
