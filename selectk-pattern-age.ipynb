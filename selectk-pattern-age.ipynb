{
 "cells": [
  {
   "cell_type": "code",
   "execution_count": 1,
   "id": "5eec32d2",
   "metadata": {},
   "outputs": [
    {
     "name": "stderr",
     "output_type": "stream",
     "text": [
      "C:\\Users\\hp\\AppData\\Local\\Packages\\PythonSoftwareFoundation.Python.3.11_qbz5n2kfra8p0\\LocalCache\\local-packages\\Python311\\site-packages\\tqdm\\auto.py:22: TqdmWarning: IProgress not found. Please update jupyter and ipywidgets. See https://ipywidgets.readthedocs.io/en/stable/user_install.html\n",
      "  from .autonotebook import tqdm as notebook_tqdm\n"
     ]
    }
   ],
   "source": [
    "import os\n",
    "import numpy as np\n",
    "import pandas as pd\n",
    "import glob\n",
    "from tqdm.auto import tqdm\n",
    "\n",
    "import torch\n",
    "import torchaudio\n",
    "\n",
    "from sklearn.model_selection    import train_test_split\n",
    "from sklearn.preprocessing      import StandardScaler\n",
    "from sklearn.pipeline           import Pipeline\n",
    "from sklearn.ensemble           import RandomForestClassifier\n",
    "from sklearn.neighbors          import KNeighborsClassifier\n",
    "from sklearn.svm                import SVC\n",
    "from sklearn.semi_supervised    import LabelPropagation\n",
    "from sklearn.metrics            import classification_report, confusion_matrix\n",
    "\n",
    "import seaborn as sns\n",
    "import matplotlib.pyplot as plt\n",
    "\n",
    "DEVICE         = torch.device('cuda' if torch.cuda.is_available() else 'cpu')\n",
    "DATA_CSV       = './Data/data_labeled_filtered.csv'\n",
    "AUDIO_ROOT     = './Data/Audio'\n",
    "SAMPLES_PER_LABEL = 15000\n",
    "N_MFCC         = 40\n",
    "N_MELS         = 64\n",
    "TEST_SIZE      = 0.2\n",
    "RANDOM_STATE   = 42"
   ]
  },
  {
   "cell_type": "code",
   "execution_count": 2,
   "id": "d090a8e8",
   "metadata": {},
   "outputs": [
    {
     "data": {
      "text/html": [
       "<div>\n",
       "<style scoped>\n",
       "    .dataframe tbody tr th:only-of-type {\n",
       "        vertical-align: middle;\n",
       "    }\n",
       "\n",
       "    .dataframe tbody tr th {\n",
       "        vertical-align: top;\n",
       "    }\n",
       "\n",
       "    .dataframe thead th {\n",
       "        text-align: right;\n",
       "    }\n",
       "</style>\n",
       "<table border=\"1\" class=\"dataframe\">\n",
       "  <thead>\n",
       "    <tr style=\"text-align: right;\">\n",
       "      <th></th>\n",
       "      <th>path</th>\n",
       "      <th>sentence</th>\n",
       "      <th>up_votes</th>\n",
       "      <th>down_votes</th>\n",
       "      <th>age</th>\n",
       "      <th>gender</th>\n",
       "      <th>accent</th>\n",
       "      <th>label</th>\n",
       "      <th>source</th>\n",
       "    </tr>\n",
       "  </thead>\n",
       "  <tbody>\n",
       "    <tr>\n",
       "      <th>0</th>\n",
       "      <td>common_voice_en_19687170.mp3</td>\n",
       "      <td>He associated with the Formists.</td>\n",
       "      <td>2</td>\n",
       "      <td>1</td>\n",
       "      <td>0</td>\n",
       "      <td>0</td>\n",
       "      <td>us</td>\n",
       "      <td>3</td>\n",
       "      <td>Audio</td>\n",
       "    </tr>\n",
       "    <tr>\n",
       "      <th>1</th>\n",
       "      <td>common_voice_en_19687171.mp3</td>\n",
       "      <td>The \"ultra accelerator\" injection gives Derric...</td>\n",
       "      <td>2</td>\n",
       "      <td>1</td>\n",
       "      <td>0</td>\n",
       "      <td>0</td>\n",
       "      <td>us</td>\n",
       "      <td>3</td>\n",
       "      <td>Audio</td>\n",
       "    </tr>\n",
       "    <tr>\n",
       "      <th>2</th>\n",
       "      <td>common_voice_en_19687172.mp3</td>\n",
       "      <td>Despite running as a joke, candidates have won...</td>\n",
       "      <td>2</td>\n",
       "      <td>0</td>\n",
       "      <td>0</td>\n",
       "      <td>0</td>\n",
       "      <td>us</td>\n",
       "      <td>3</td>\n",
       "      <td>Audio</td>\n",
       "    </tr>\n",
       "    <tr>\n",
       "      <th>3</th>\n",
       "      <td>common_voice_en_19687173.mp3</td>\n",
       "      <td>Stoner also guest-starred in the television dr...</td>\n",
       "      <td>2</td>\n",
       "      <td>0</td>\n",
       "      <td>0</td>\n",
       "      <td>0</td>\n",
       "      <td>us</td>\n",
       "      <td>3</td>\n",
       "      <td>Audio</td>\n",
       "    </tr>\n",
       "    <tr>\n",
       "      <th>4</th>\n",
       "      <td>common_voice_en_19687174.mp3</td>\n",
       "      <td>Rainelle was named for the Raine family.</td>\n",
       "      <td>2</td>\n",
       "      <td>0</td>\n",
       "      <td>0</td>\n",
       "      <td>0</td>\n",
       "      <td>us</td>\n",
       "      <td>3</td>\n",
       "      <td>Audio</td>\n",
       "    </tr>\n",
       "  </tbody>\n",
       "</table>\n",
       "</div>"
      ],
      "text/plain": [
       "                           path  \\\n",
       "0  common_voice_en_19687170.mp3   \n",
       "1  common_voice_en_19687171.mp3   \n",
       "2  common_voice_en_19687172.mp3   \n",
       "3  common_voice_en_19687173.mp3   \n",
       "4  common_voice_en_19687174.mp3   \n",
       "\n",
       "                                            sentence  up_votes  down_votes  \\\n",
       "0                   He associated with the Formists.         2           1   \n",
       "1  The \"ultra accelerator\" injection gives Derric...         2           1   \n",
       "2  Despite running as a joke, candidates have won...         2           0   \n",
       "3  Stoner also guest-starred in the television dr...         2           0   \n",
       "4           Rainelle was named for the Raine family.         2           0   \n",
       "\n",
       "   age  gender accent  label source  \n",
       "0    0       0     us      3  Audio  \n",
       "1    0       0     us      3  Audio  \n",
       "2    0       0     us      3  Audio  \n",
       "3    0       0     us      3  Audio  \n",
       "4    0       0     us      3  Audio  "
      ]
     },
     "metadata": {},
     "output_type": "display_data"
    },
    {
     "name": "stdout",
     "output_type": "stream",
     "text": [
      "Per‐class counts:\n",
      " 0    119700\n",
      "1     19341\n",
      "2     17292\n",
      "3     15825\n",
      "Name: label, dtype: int64\n"
     ]
    }
   ],
   "source": [
    "df = pd.read_csv(DATA_CSV)\n",
    "\n",
    "display(df.head())\n",
    "print(\"Per‐class counts:\\n\", df['label'].value_counts())"
   ]
  },
  {
   "cell_type": "code",
   "execution_count": 3,
   "id": "ed4c1a86",
   "metadata": {},
   "outputs": [],
   "source": [
    "n_fft      = 512\n",
    "hop_length = 256\n",
    "n_mels     = 64\n",
    "\n",
    "melspec_transform = torchaudio.transforms.MelSpectrogram(\n",
    "    sample_rate=16000,\n",
    "    n_fft=n_fft,\n",
    "    hop_length=hop_length,\n",
    "    n_mels=n_mels,\n",
    ").to(DEVICE)\n",
    "\n",
    "mfcc_transform = torchaudio.transforms.MFCC(\n",
    "    sample_rate=16000,\n",
    "    n_mfcc=N_MFCC,\n",
    "    melkwargs={\n",
    "        'n_fft':       n_fft,\n",
    "        'hop_length':  hop_length,\n",
    "        'n_mels':      n_mels,\n",
    "    }\n",
    ").to(DEVICE)"
   ]
  },
  {
   "cell_type": "code",
   "execution_count": null,
   "id": "86353c30",
   "metadata": {},
   "outputs": [
    {
     "name": "stderr",
     "output_type": "stream",
     "text": [
      "Extracting: 100%|██████████| 172158/172158 [50:08<00:00, 57.23it/s] \n"
     ]
    },
    {
     "name": "stdout",
     "output_type": "stream",
     "text": [
      "X shape: (172158, 208) y shape: (172158,)\n"
     ]
    }
   ],
   "source": [
    "features, labels = [], []\n",
    "for row in tqdm(df.itertuples(index=False), total=len(df), desc=\"Extracting\"):\n",
    "    path = os.path.join(AUDIO_ROOT, row.path)\n",
    "    waveform, sr = torchaudio.load(path)\n",
    "    waveform = waveform.to(DEVICE)\n",
    "\n",
    "    waveform = torch.where(waveform.abs() < 1e-4,\n",
    "                           torch.zeros_like(waveform),\n",
    "                           waveform)\n",
    "\n",
    "    # 1) MFCC: [1, N_MFCC, T']\n",
    "    mfcc = mfcc_transform(waveform)\n",
    "    # 2) MelSpectrogram: [1, N_MELS, T']\n",
    "    melspec = melspec_transform(waveform)\n",
    "\n",
    "    # collapse time → mean & var vectors\n",
    "    mfcc_mean = mfcc.mean(dim=2).squeeze(0)  # [N_MFCC]\n",
    "    mfcc_var  = mfcc.var(dim=2).squeeze(0)\n",
    "    spec_mean = melspec.mean(dim=2).squeeze(0)  # [N_MELS]\n",
    "    spec_var  = melspec.var(dim=2).squeeze(0)\n",
    "\n",
    "    feat = torch.cat([mfcc_mean, mfcc_var, spec_mean, spec_var], dim=0)\n",
    "    features.append(feat.cpu().numpy())\n",
    "    labels.append(row.age)\n",
    "\n",
    "X = np.vstack(features)\n",
    "y = np.array(labels)\n",
    "print(\"X shape:\", X.shape, \"y shape:\", y.shape)"
   ]
  },
  {
   "cell_type": "code",
   "execution_count": 26,
   "id": "edb09d3f",
   "metadata": {},
   "outputs": [
    {
     "name": "stdout",
     "output_type": "stream",
     "text": [
      "Features exported to ./Data/data_with_features.csv\n",
      "Original columns: 9\n",
      "Added feature columns: 208\n",
      "Total columns in output: 217\n"
     ]
    }
   ],
   "source": [
    "def export_features_to_csv(X, df, output_path='./Data/data_with_features.csv'):\n",
    "    feature_columns = []\n",
    "    \n",
    "    for i in range(N_MFCC):\n",
    "        feature_columns.append(f'mfcc_mean_{i}')\n",
    "    for i in range(N_MFCC):\n",
    "        feature_columns.append(f'mfcc_var_{i}')\n",
    "    for i in range(N_MELS):\n",
    "        feature_columns.append(f'melspec_mean_{i}')\n",
    "    for i in range(N_MELS):\n",
    "        feature_columns.append(f'melspec_var_{i}')\n",
    "    \n",
    "    df_features = pd.DataFrame(X, columns=feature_columns)\n",
    "    \n",
    "    if len(df) != len(df_features):\n",
    "        raise ValueError(f\"Length mismatch: df has {len(df)} rows but features has {len(df_features)} rows\")\n",
    "    \n",
    "    df_combined = pd.concat([df.reset_index(drop=True), \n",
    "                           df_features.reset_index(drop=True)], axis=1)\n",
    "    \n",
    "    df_combined.to_csv(output_path, index=False)\n",
    "    print(f\"Features exported to {output_path}\")\n",
    "    print(f\"Original columns: {len(df.columns)}\")\n",
    "    print(f\"Added feature columns: {len(df_features.columns)}\")\n",
    "    print(f\"Total columns in output: {len(df_combined.columns)}\")\n",
    "    \n",
    "    return df_combined\n",
    "\n",
    "df_with_features = export_features_to_csv(X, df)"
   ]
  },
  {
   "cell_type": "code",
   "execution_count": 5,
   "id": "2b8e54ff",
   "metadata": {},
   "outputs": [],
   "source": [
    "X_train, X_test, y_train, y_test = train_test_split(\n",
    "    X, y,\n",
    "    test_size=TEST_SIZE,\n",
    "    stratify=y,\n",
    "    random_state=RANDOM_STATE\n",
    ")"
   ]
  },
  {
   "cell_type": "code",
   "execution_count": 6,
   "id": "b9bf8f27",
   "metadata": {},
   "outputs": [],
   "source": [
    "from sklearn.decomposition import PCA\n",
    "\n",
    "pca = PCA(n_components=0.95, svd_solver='full')   # keep 95% of variance\n",
    "X_train_pca = pca.fit_transform(X_train)\n",
    "X_test_pca  = pca.transform(X_test)"
   ]
  },
  {
   "cell_type": "code",
   "execution_count": 7,
   "id": "4219e9e8",
   "metadata": {},
   "outputs": [
    {
     "name": "stdout",
     "output_type": "stream",
     "text": [
      "\n",
      "=== Tuning KNN_baseline ===\n",
      "Fitting 3 folds for each of 4 candidates, totalling 12 fits\n",
      " Best k: 3 | CV acc: 0.9760\n",
      "\n",
      "=== Tuning KNN_selectK ===\n",
      "Fitting 3 folds for each of 4 candidates, totalling 12 fits\n",
      " Best k: 3 | CV acc: 0.9742\n",
      "\n",
      "=== Tuning KNN_pca ===\n",
      "Fitting 3 folds for each of 4 candidates, totalling 12 fits\n",
      " Best k: 3 | CV acc: 0.9765\n"
     ]
    }
   ],
   "source": [
    "from sklearn.model_selection    import train_test_split, GridSearchCV\n",
    "from sklearn.preprocessing      import StandardScaler\n",
    "from sklearn.feature_selection  import SelectKBest, f_classif\n",
    "from sklearn.decomposition      import PCA\n",
    "from sklearn.pipeline           import Pipeline\n",
    "from sklearn.neighbors          import KNeighborsClassifier\n",
    "from sklearn.metrics            import classification_report, confusion_matrix\n",
    "import matplotlib.pyplot        as plt\n",
    "import seaborn                  as sns\n",
    "\n",
    "# 6) Define three pipelines\n",
    "pipelines = {\n",
    "    'KNN_baseline': Pipeline([\n",
    "        ('scaler', StandardScaler()),\n",
    "        ('knn',    KNeighborsClassifier())\n",
    "    ]),\n",
    "    'KNN_selectK': Pipeline([\n",
    "        ('scaler', StandardScaler()),\n",
    "        ('kbest',  SelectKBest(score_func=f_classif, k=100)),\n",
    "        ('knn',    KNeighborsClassifier())\n",
    "    ]),\n",
    "    'KNN_pca': Pipeline([\n",
    "        ('scaler', StandardScaler()),\n",
    "        ('pca',    PCA(n_components=0.95, svd_solver='full')),\n",
    "        ('knn',    KNeighborsClassifier())\n",
    "    ]),\n",
    "}\n",
    "\n",
    "# 7) Light grid over k in [3,5,7,9]\n",
    "param_grid = {\n",
    "    'knn__n_neighbors': [3, 5, 7, 9]\n",
    "}\n",
    "\n",
    "best_models = {}\n",
    "for name, pipe in pipelines.items():\n",
    "    print(f\"\\n=== Tuning {name} ===\")\n",
    "    # We only tune the 'knn' step in each pipeline\n",
    "    grid = GridSearchCV(pipe, param_grid, cv=3, n_jobs=-1, verbose=1)\n",
    "    grid.fit(X_train, y_train)\n",
    "    print(\" Best k:\", grid.best_params_['knn__n_neighbors'],\n",
    "          \"| CV acc:\", f\"{grid.best_score_:.4f}\")\n",
    "    best_models[name] = grid.best_estimator_"
   ]
  },
  {
   "cell_type": "code",
   "execution_count": 8,
   "id": "ea933e91",
   "metadata": {},
   "outputs": [
    {
     "name": "stdout",
     "output_type": "stream",
     "text": [
      "\n",
      "--- Test results for KNN_baseline ---\n",
      "              precision    recall  f1-score   support\n",
      "\n",
      "         50s     0.9548    0.9576    0.9562      6623\n",
      "         20s     0.9899    0.9892    0.9896     27809\n",
      "\n",
      "    accuracy                         0.9831     34432\n",
      "   macro avg     0.9724    0.9734    0.9729     34432\n",
      "weighted avg     0.9831    0.9831    0.9831     34432\n",
      "\n"
     ]
    },
    {
     "data": {
      "image/png": "[encoded data removed]",
      "text/plain": [
       "<Figure size 400x300 with 2 Axes>"
      ]
     },
     "metadata": {},
     "output_type": "display_data"
    },
    {
     "name": "stdout",
     "output_type": "stream",
     "text": [
      "\n",
      "--- Test results for KNN_selectK ---\n",
      "              precision    recall  f1-score   support\n",
      "\n",
      "         50s     0.9489    0.9505    0.9497      6623\n",
      "         20s     0.9882    0.9878    0.9880     27809\n",
      "\n",
      "    accuracy                         0.9806     34432\n",
      "   macro avg     0.9686    0.9691    0.9688     34432\n",
      "weighted avg     0.9806    0.9806    0.9806     34432\n",
      "\n"
     ]
    },
    {
     "data": {
      "image/png": "[encoded data removed]",
      "text/plain": [
       "<Figure size 400x300 with 2 Axes>"
      ]
     },
     "metadata": {},
     "output_type": "display_data"
    },
    {
     "name": "stdout",
     "output_type": "stream",
     "text": [
      "\n",
      "--- Test results for KNN_pca ---\n",
      "              precision    recall  f1-score   support\n",
      "\n",
      "         50s     0.9522    0.9570    0.9546      6623\n",
      "         20s     0.9897    0.9886    0.9892     27809\n",
      "\n",
      "    accuracy                         0.9825     34432\n",
      "   macro avg     0.9710    0.9728    0.9719     34432\n",
      "weighted avg     0.9825    0.9825    0.9825     34432\n",
      "\n"
     ]
    },
    {
     "data": {
      "image/png": "[encoded data removed]",
      "text/plain": [
       "<Figure size 400x300 with 2 Axes>"
      ]
     },
     "metadata": {},
     "output_type": "display_data"
    }
   ],
   "source": [
    "# 8) Evaluate all three\n",
    "for name, model in best_models.items():\n",
    "    print(f\"\\n--- Test results for {name} ---\")\n",
    "    y_pred = model.predict(X_test)\n",
    "    print(classification_report(\n",
    "        y_test, y_pred,\n",
    "        target_names=['50s', '20s'],\n",
    "        digits=4\n",
    "    ))\n",
    "    cm = confusion_matrix(y_test, y_pred)\n",
    "    plt.figure(figsize=(4,3))\n",
    "    sns.heatmap(cm, annot=True, fmt='d', cmap='Blues',\n",
    "                xticklabels=[0,1], yticklabels=[0,1])\n",
    "    plt.title(name)\n",
    "    plt.xlabel('Pred'); plt.ylabel('True')\n",
    "    plt.show()"
   ]
  },
  {
   "cell_type": "code",
   "execution_count": 9,
   "id": "e60ff33e",
   "metadata": {},
   "outputs": [
    {
     "data": {
      "text/plain": [
       "['KNN_baseline_age.joblib']"
      ]
     },
     "execution_count": 9,
     "metadata": {},
     "output_type": "execute_result"
    }
   ],
   "source": [
    "from joblib import dump\n",
    "# 9) Save the best model\n",
    "best_model = best_models['KNN_baseline']\n",
    "dump(best_model, 'KNN_baseline_age.joblib')"
   ]
  },
  {
   "cell_type": "markdown",
   "id": "4a1c75fb",
   "metadata": {},
   "source": [
    "## Trial 2:"
   ]
  },
  {
   "cell_type": "code",
   "execution_count": 10,
   "id": "7e5ca00b",
   "metadata": {},
   "outputs": [],
   "source": [
    "gender_map = {0: 'female', 1: 'male'}"
   ]
  },
  {
   "cell_type": "code",
   "execution_count": 11,
   "id": "da9f5a3b",
   "metadata": {},
   "outputs": [
    {
     "name": "stdout",
     "output_type": "stream",
     "text": [
      "Gender counts:\n",
      " 1    136992\n",
      "0     35166\n",
      "Name: gender, dtype: int64\n"
     ]
    },
    {
     "data": {
      "text/html": [
       "<div>\n",
       "<style scoped>\n",
       "    .dataframe tbody tr th:only-of-type {\n",
       "        vertical-align: middle;\n",
       "    }\n",
       "\n",
       "    .dataframe tbody tr th {\n",
       "        vertical-align: top;\n",
       "    }\n",
       "\n",
       "    .dataframe thead th {\n",
       "        text-align: right;\n",
       "    }\n",
       "</style>\n",
       "<table border=\"1\" class=\"dataframe\">\n",
       "  <thead>\n",
       "    <tr style=\"text-align: right;\">\n",
       "      <th></th>\n",
       "      <th>path</th>\n",
       "      <th>sentence</th>\n",
       "      <th>up_votes</th>\n",
       "      <th>down_votes</th>\n",
       "      <th>age</th>\n",
       "      <th>gender</th>\n",
       "      <th>accent</th>\n",
       "      <th>label</th>\n",
       "      <th>source</th>\n",
       "    </tr>\n",
       "  </thead>\n",
       "  <tbody>\n",
       "    <tr>\n",
       "      <th>0</th>\n",
       "      <td>common_voice_en_19687170.mp3</td>\n",
       "      <td>He associated with the Formists.</td>\n",
       "      <td>2</td>\n",
       "      <td>1</td>\n",
       "      <td>0</td>\n",
       "      <td>0</td>\n",
       "      <td>us</td>\n",
       "      <td>3</td>\n",
       "      <td>Audio</td>\n",
       "    </tr>\n",
       "    <tr>\n",
       "      <th>1</th>\n",
       "      <td>common_voice_en_19687171.mp3</td>\n",
       "      <td>The \"ultra accelerator\" injection gives Derric...</td>\n",
       "      <td>2</td>\n",
       "      <td>1</td>\n",
       "      <td>0</td>\n",
       "      <td>0</td>\n",
       "      <td>us</td>\n",
       "      <td>3</td>\n",
       "      <td>Audio</td>\n",
       "    </tr>\n",
       "    <tr>\n",
       "      <th>2</th>\n",
       "      <td>common_voice_en_19687172.mp3</td>\n",
       "      <td>Despite running as a joke, candidates have won...</td>\n",
       "      <td>2</td>\n",
       "      <td>0</td>\n",
       "      <td>0</td>\n",
       "      <td>0</td>\n",
       "      <td>us</td>\n",
       "      <td>3</td>\n",
       "      <td>Audio</td>\n",
       "    </tr>\n",
       "    <tr>\n",
       "      <th>3</th>\n",
       "      <td>common_voice_en_19687173.mp3</td>\n",
       "      <td>Stoner also guest-starred in the television dr...</td>\n",
       "      <td>2</td>\n",
       "      <td>0</td>\n",
       "      <td>0</td>\n",
       "      <td>0</td>\n",
       "      <td>us</td>\n",
       "      <td>3</td>\n",
       "      <td>Audio</td>\n",
       "    </tr>\n",
       "    <tr>\n",
       "      <th>4</th>\n",
       "      <td>common_voice_en_19687174.mp3</td>\n",
       "      <td>Rainelle was named for the Raine family.</td>\n",
       "      <td>2</td>\n",
       "      <td>0</td>\n",
       "      <td>0</td>\n",
       "      <td>0</td>\n",
       "      <td>us</td>\n",
       "      <td>3</td>\n",
       "      <td>Audio</td>\n",
       "    </tr>\n",
       "  </tbody>\n",
       "</table>\n",
       "</div>"
      ],
      "text/plain": [
       "                           path  \\\n",
       "0  common_voice_en_19687170.mp3   \n",
       "1  common_voice_en_19687171.mp3   \n",
       "2  common_voice_en_19687172.mp3   \n",
       "3  common_voice_en_19687173.mp3   \n",
       "4  common_voice_en_19687174.mp3   \n",
       "\n",
       "                                            sentence  up_votes  down_votes  \\\n",
       "0                   He associated with the Formists.         2           1   \n",
       "1  The \"ultra accelerator\" injection gives Derric...         2           1   \n",
       "2  Despite running as a joke, candidates have won...         2           0   \n",
       "3  Stoner also guest-starred in the television dr...         2           0   \n",
       "4           Rainelle was named for the Raine family.         2           0   \n",
       "\n",
       "   age  gender accent  label source  \n",
       "0    0       0     us      3  Audio  \n",
       "1    0       0     us      3  Audio  \n",
       "2    0       0     us      3  Audio  \n",
       "3    0       0     us      3  Audio  \n",
       "4    0       0     us      3  Audio  "
      ]
     },
     "metadata": {},
     "output_type": "display_data"
    }
   ],
   "source": [
    "print(\"Gender counts:\\n\", df['gender'].value_counts())\n",
    "display(df.head())"
   ]
  },
  {
   "cell_type": "code",
   "execution_count": 12,
   "id": "bce07cae",
   "metadata": {},
   "outputs": [],
   "source": [
    "y_gender = df['gender'].values\n",
    "assert len(X) == len(y) == len(y_gender), \"Mismatch in feature/label lengths!\""
   ]
  },
  {
   "cell_type": "code",
   "execution_count": 13,
   "id": "30b335f0",
   "metadata": {},
   "outputs": [],
   "source": [
    "female_mask = (y_gender == 0)\n",
    "male_mask   = (y_gender == 1)"
   ]
  },
  {
   "cell_type": "code",
   "execution_count": 14,
   "id": "13b79ff9",
   "metadata": {},
   "outputs": [],
   "source": [
    "X_female = X[female_mask]\n",
    "y_female_age = y[female_mask]\n",
    "\n",
    "X_male = X[male_mask]\n",
    "y_male_age = y[male_mask]"
   ]
  },
  {
   "cell_type": "code",
   "execution_count": 15,
   "id": "f1e01159",
   "metadata": {},
   "outputs": [
    {
     "name": "stdout",
     "output_type": "stream",
     "text": [
      "--- Data Filtering ---\n",
      "Total Female Samples: 35166\n",
      "  Female Age distribution:\n",
      "1    0.549991\n",
      "0    0.450009\n",
      "dtype: float64\n",
      "\n",
      "Total Male Samples: 136992\n",
      "  Male Age distribution:\n",
      "1    0.873774\n",
      "0    0.126226\n",
      "dtype: float64\n"
     ]
    }
   ],
   "source": [
    "print(f\"--- Data Filtering ---\")\n",
    "print(f\"Total Female Samples: {len(X_female)}\")\n",
    "print(f\"  Female Age distribution:\\n{pd.Series(y_female_age).value_counts(normalize=True)}\")\n",
    "print(f\"\\nTotal Male Samples: {len(X_male)}\")\n",
    "print(f\"  Male Age distribution:\\n{pd.Series(y_male_age).value_counts(normalize=True)}\")"
   ]
  },
  {
   "cell_type": "code",
   "execution_count": 16,
   "id": "022e4572",
   "metadata": {},
   "outputs": [
    {
     "name": "stdout",
     "output_type": "stream",
     "text": [
      "\n",
      "--- Splitting Female Data (Age) ---\n",
      "Female Train shapes: (28132, 208) (28132,)\n",
      "Female Test shapes:  (7034, 208) (7034,)\n",
      "Female Train Age distribution:\n",
      " 1    0.549979\n",
      "0    0.450021\n",
      "dtype: float64\n",
      "Female Test Age distribution:\n",
      " 1    0.550043\n",
      "0    0.449957\n",
      "dtype: float64\n"
     ]
    }
   ],
   "source": [
    "print(f\"\\n--- Splitting Female Data (Age) ---\")\n",
    "if len(X_female) > 0:\n",
    "    can_stratify_female = len(np.unique(y_female_age)) > 1 and all(count >= 2 for count in pd.Series(y_female_age).value_counts())\n",
    "\n",
    "    if not can_stratify_female:\n",
    "        print(\"Warning: Cannot stratify female data by age (too few samples or only one class). Splitting without stratification.\")\n",
    "        stratify_param_female = None\n",
    "    else:\n",
    "        stratify_param_female = y_female_age\n",
    "\n",
    "    X_train_female, X_test_female, y_train_female_age, y_test_female_age = train_test_split(\n",
    "        X_female, y_female_age,\n",
    "        test_size=TEST_SIZE,\n",
    "        stratify=stratify_param_female,\n",
    "        random_state=RANDOM_STATE\n",
    "    )\n",
    "    print(\"Female Train shapes:\", X_train_female.shape, y_train_female_age.shape)\n",
    "    print(\"Female Test shapes: \", X_test_female.shape, y_test_female_age.shape)\n",
    "    print(\"Female Train Age distribution:\\n\", pd.Series(y_train_female_age).value_counts(normalize=True))\n",
    "    print(\"Female Test Age distribution:\\n\", pd.Series(y_test_female_age).value_counts(normalize=True))\n",
    "else:\n",
    "    print(\"No female samples found to split.\")\n",
    "    X_train_female, X_test_female, y_train_female_age, y_test_female_age = [np.array([])]*4"
   ]
  },
  {
   "cell_type": "code",
   "execution_count": 17,
   "id": "de5ddb5e",
   "metadata": {},
   "outputs": [
    {
     "name": "stdout",
     "output_type": "stream",
     "text": [
      "\n",
      "--- Splitting Male Data (Age) ---\n",
      "Male Train shapes: (109593, 208) (109593,)\n",
      "Male Test shapes:  (27399, 208) (27399,)\n",
      "Male Train Age distribution:\n",
      " 1    0.873769\n",
      "0    0.126231\n",
      "dtype: float64\n",
      "Male Test Age distribution:\n",
      " 1    0.873791\n",
      "0    0.126209\n",
      "dtype: float64\n"
     ]
    }
   ],
   "source": [
    "print(f\"\\n--- Splitting Male Data (Age) ---\")\n",
    "if len(X_male) > 0:\n",
    "    can_stratify_male = len(np.unique(y_male_age)) > 1 and all(count >= 2 for count in pd.Series(y_male_age).value_counts())\n",
    "\n",
    "    if not can_stratify_male:\n",
    "        print(\"Warning: Cannot stratify male data by age (too few samples or only one class). Splitting without stratification.\")\n",
    "        stratify_param_male = None\n",
    "    else:\n",
    "        stratify_param_male = y_male_age\n",
    "\n",
    "    X_train_male, X_test_male, y_train_male_age, y_test_male_age = train_test_split(\n",
    "        X_male, y_male_age,\n",
    "        test_size=TEST_SIZE,\n",
    "        stratify=stratify_param_male,\n",
    "        random_state=RANDOM_STATE\n",
    "    )\n",
    "    print(\"Male Train shapes:\", X_train_male.shape, y_train_male_age.shape)\n",
    "    print(\"Male Test shapes: \", X_test_male.shape, y_test_male_age.shape)\n",
    "    print(\"Male Train Age distribution:\\n\", pd.Series(y_train_male_age).value_counts(normalize=True))\n",
    "    print(\"Male Test Age distribution:\\n\", pd.Series(y_test_male_age).value_counts(normalize=True))\n",
    "else:\n",
    "    print(\"No male samples found to split.\")\n",
    "    X_train_male, X_test_male, y_train_male_age, y_test_male_age = [np.array([])]*4"
   ]
  },
  {
   "cell_type": "code",
   "execution_count": 18,
   "id": "b1928ea0",
   "metadata": {},
   "outputs": [],
   "source": [
    "from sklearn.decomposition import PCA\n",
    "\n",
    "pca = PCA(n_components=0.95, svd_solver='full')\n",
    "X_train_male_pca = pca.fit_transform(X_train_male)\n",
    "X_test_male_pca  = pca.transform(X_test_male)"
   ]
  },
  {
   "cell_type": "code",
   "execution_count": 19,
   "id": "41e8f40c",
   "metadata": {},
   "outputs": [
    {
     "name": "stdout",
     "output_type": "stream",
     "text": [
      "--- Training Models on MALE Data ---\n",
      "\n",
      "=== Tuning KNN_baseline_male ===\n",
      "Fitting 3 folds for each of 4 candidates, totalling 12 fits\n",
      "  Best k: 3 | CV acc: 0.9818\n",
      "\n",
      "=== Tuning KNN_selectK_male ===\n",
      "Fitting 3 folds for each of 4 candidates, totalling 12 fits\n",
      "  Best k: 3 | CV acc: 0.9806\n",
      "\n",
      "=== Tuning KNN_pca_male ===\n",
      "Fitting 3 folds for each of 4 candidates, totalling 12 fits\n",
      "  Best k: 3 | CV acc: 0.9817\n"
     ]
    }
   ],
   "source": [
    "from sklearn.model_selection    import train_test_split, GridSearchCV\n",
    "from sklearn.preprocessing      import StandardScaler\n",
    "from sklearn.feature_selection  import SelectKBest, f_classif\n",
    "from sklearn.decomposition      import PCA\n",
    "from sklearn.pipeline           import Pipeline\n",
    "from sklearn.neighbors          import KNeighborsClassifier\n",
    "from sklearn.metrics            import classification_report, confusion_matrix\n",
    "import matplotlib.pyplot        as plt\n",
    "import seaborn                  as sns\n",
    "\n",
    "# 6) Define three pipelines\n",
    "pipelines_male = {\n",
    "    'KNN_baseline_male': Pipeline([\n",
    "        ('scaler', StandardScaler()),\n",
    "        ('knn',    KNeighborsClassifier())\n",
    "    ]),\n",
    "    'KNN_selectK_male': Pipeline([\n",
    "        ('scaler', StandardScaler()),\n",
    "        ('kbest',  SelectKBest(score_func=f_classif, k=min(100, X_train_male.shape[1] if X_train_male.ndim > 1 and X_train_male.shape[1] > 0 else 100))),\n",
    "        ('knn',    KNeighborsClassifier())\n",
    "    ]),\n",
    "    'KNN_pca_male': Pipeline([\n",
    "        ('scaler', StandardScaler()),\n",
    "        ('pca',    PCA(n_components=0.95, svd_solver='full')),\n",
    "        ('knn',    KNeighborsClassifier())\n",
    "    ]),\n",
    "}\n",
    "\n",
    "# 7) Light grid over k in [3,5,7,9]\n",
    "param_grid_male = {\n",
    "    'knn__n_neighbors': [3, 5, 7, 9]\n",
    "}\n",
    "\n",
    "best_models_male = {} # Store best models found for males\n",
    "print(\"--- Training Models on MALE Data ---\")\n",
    "\n",
    "# Check if there is enough data to train\n",
    "if X_train_male.shape[0] < 5: # Arbitrary small number, adjust if needed\n",
    "    print(f\"Skipping male model training: Insufficient training samples ({X_train_male.shape[0]})\")\n",
    "elif len(np.unique(y_train_male_age)) < 2:\n",
    "     print(f\"Skipping male model training: Only one class present in y_train_male_age.\")\n",
    "else:\n",
    "    for name, pipe in pipelines_male.items():\n",
    "        print(f\"\\n=== Tuning {name} ===\")\n",
    "        # We only tune the 'knn' step in each pipeline\n",
    "        # Setup GridSearchCV\n",
    "        # Use cv=min(3, n_splits) if dataset is very small for stratification\n",
    "        n_splits = min(3, min(np.unique(y_train_male_age, return_counts=True)[1])) # Ensure CV folds <= smallest class count\n",
    "        if n_splits < 2:\n",
    "            print(f\"  Cannot perform cross-validation with n_splits={n_splits}. Skipping tuning for {name}.\")\n",
    "            continue\n",
    "\n",
    "        grid = GridSearchCV(pipe, param_grid_male, cv=n_splits, n_jobs=-1, verbose=1, scoring='accuracy') # Use accuracy or other metric\n",
    "\n",
    "        # Fit GridSearchCV on the ORIGINAL male training data\n",
    "        try:\n",
    "            grid.fit(X_train_male, y_train_male_age)\n",
    "            print(\"  Best k:\", grid.best_params_['knn__n_neighbors'],\n",
    "                  \"| CV acc:\", f\"{grid.best_score_:.4f}\")\n",
    "            best_models_male[name] = grid.best_estimator_\n",
    "        except ValueError as e:\n",
    "             print(f\"  ERROR during GridSearchCV for {name}: {e}\")\n",
    "             print(f\"  Skipping this pipeline. Check data dimensionality, KBest k value, or PCA components.\")"
   ]
  },
  {
   "cell_type": "code",
   "execution_count": 20,
   "id": "edda2ec8",
   "metadata": {},
   "outputs": [
    {
     "name": "stdout",
     "output_type": "stream",
     "text": [
      "\n",
      "--- Evaluating Male Models on MALE Test Data ---\n",
      "\n",
      "--- Test results for KNN_baseline_male ---\n",
      "              precision    recall  f1-score   support\n",
      "\n",
      "         50s     0.9529    0.9427    0.9478      3458\n",
      "         20s     0.9917    0.9933    0.9925     23941\n",
      "\n",
      "    accuracy                         0.9869     27399\n",
      "   macro avg     0.9723    0.9680    0.9702     27399\n",
      "weighted avg     0.9868    0.9869    0.9869     27399\n",
      "\n"
     ]
    },
    {
     "data": {
      "image/png": "[encoded data removed]",
      "text/plain": [
       "<Figure size 400x300 with 2 Axes>"
      ]
     },
     "metadata": {},
     "output_type": "display_data"
    },
    {
     "name": "stdout",
     "output_type": "stream",
     "text": [
      "\n",
      "--- Test results for KNN_selectK_male ---\n",
      "              precision    recall  f1-score   support\n",
      "\n",
      "         50s     0.9488    0.9387    0.9437      3458\n",
      "         20s     0.9912    0.9927    0.9919     23941\n",
      "\n",
      "    accuracy                         0.9859     27399\n",
      "   macro avg     0.9700    0.9657    0.9678     27399\n",
      "weighted avg     0.9858    0.9859    0.9858     27399\n",
      "\n"
     ]
    },
    {
     "data": {
      "image/png": "[encoded data removed]",
      "text/plain": [
       "<Figure size 400x300 with 2 Axes>"
      ]
     },
     "metadata": {},
     "output_type": "display_data"
    },
    {
     "name": "stdout",
     "output_type": "stream",
     "text": [
      "\n",
      "--- Test results for KNN_pca_male ---\n",
      "              precision    recall  f1-score   support\n",
      "\n",
      "         50s     0.9512    0.9407    0.9459      3458\n",
      "         20s     0.9915    0.9930    0.9922     23941\n",
      "\n",
      "    accuracy                         0.9864     27399\n",
      "   macro avg     0.9713    0.9669    0.9691     27399\n",
      "weighted avg     0.9864    0.9864    0.9864     27399\n",
      "\n"
     ]
    },
    {
     "data": {
      "image/png": "[encoded data removed]",
      "text/plain": [
       "<Figure size 400x300 with 2 Axes>"
      ]
     },
     "metadata": {},
     "output_type": "display_data"
    }
   ],
   "source": [
    "print(\"\\n--- Evaluating Male Models on MALE Test Data ---\")\n",
    "\n",
    "# Make sure target names match your age encoding (e.g., 0='50s', 1='20s')\n",
    "# Check your y variable's unique values and adjust if needed.\n",
    "age_target_names = ['50s', '20s']\n",
    "age_labels_numeric = sorted(np.unique(y_train_male_age)) # Get the actual numeric labels [0, 1]\n",
    "if len(age_labels_numeric) != len(age_target_names):\n",
    "    print(f\"Warning: Mismatch between number of unique age labels ({len(age_labels_numeric)}) and target names ({len(age_target_names)}). Using numeric labels.\")\n",
    "    target_names_display = [str(l) for l in age_labels_numeric]\n",
    "    xticklabels_display = [str(l) for l in age_labels_numeric]\n",
    "    yticklabels_display = [str(l) for l in age_labels_numeric]\n",
    "\n",
    "else:\n",
    "     target_names_display = age_target_names\n",
    "     xticklabels_display=age_target_names\n",
    "     yticklabels_display=age_target_names\n",
    "\n",
    "\n",
    "\n",
    "if not best_models_male:\n",
    "     print(\"No models were successfully trained for males.\")\n",
    "elif X_test_male.shape[0] == 0:\n",
    "     print(\"No test data available for males.\")\n",
    "else:\n",
    "    for name, model in best_models_male.items():\n",
    "        print(f\"\\n--- Test results for {name} ---\")\n",
    "\n",
    "        # Predict on the ORIGINAL male test data\n",
    "        # The model pipeline handles scaling/pca/kbest transformation internally\n",
    "        try:\n",
    "            y_pred_male = model.predict(X_test_male)\n",
    "\n",
    "            print(classification_report(\n",
    "                y_test_male_age, y_pred_male,\n",
    "                target_names=target_names_display,\n",
    "                digits=4,\n",
    "                zero_division=0 # Avoid warnings if a class has no test samples or predictions\n",
    "            ))\n",
    "            cm = confusion_matrix(y_test_male_age, y_pred_male, labels=age_labels_numeric) # Ensure labels match numeric order\n",
    "            plt.figure(figsize=(4,3))\n",
    "            sns.heatmap(cm, annot=True, fmt='d', cmap='Blues',\n",
    "                        xticklabels=xticklabels_display, yticklabels=yticklabels_display)\n",
    "            plt.title(f\"{name} (Test Set)\")\n",
    "            plt.xlabel('Predicted Label'); plt.ylabel('True Label')\n",
    "            plt.show()\n",
    "        except Exception as e:\n",
    "            print(f\"  ERROR during prediction or evaluation for {name}: {e}\")"
   ]
  },
  {
   "cell_type": "code",
   "execution_count": 21,
   "id": "e9161cbc",
   "metadata": {},
   "outputs": [
    {
     "name": "stdout",
     "output_type": "stream",
     "text": [
      "\n",
      "--- Splitting Female Data (Age) ---\n",
      "female Train shapes: (28132, 208) (28132,)\n",
      "female Test shapes:  (7034, 208) (7034,)\n",
      "female Train Age distribution:\n",
      " 1    0.549979\n",
      "0    0.450021\n",
      "dtype: float64\n",
      "female Test Age distribution:\n",
      " 1    0.550043\n",
      "0    0.449957\n",
      "dtype: float64\n"
     ]
    }
   ],
   "source": [
    "print(f\"\\n--- Splitting Female Data (Age) ---\")\n",
    "if len(X_female) > 0:\n",
    "    can_stratify_female = len(np.unique(y_female_age)) > 1 and all(count >= 2 for count in pd.Series(y_female_age).value_counts())\n",
    "\n",
    "    if not can_stratify_female:\n",
    "        print(\"Warning: Cannot stratify female data by age (too few samples or only one class). Splitting without stratification.\")\n",
    "        stratify_param_female = None\n",
    "    else:\n",
    "        stratify_param_female = y_female_age\n",
    "\n",
    "    X_train_female, X_test_female, y_train_female_age, y_test_female_age = train_test_split(\n",
    "        X_female, y_female_age,\n",
    "        test_size=TEST_SIZE,\n",
    "        stratify=stratify_param_female,\n",
    "        random_state=RANDOM_STATE\n",
    "    )\n",
    "    print(\"female Train shapes:\", X_train_female.shape, y_train_female_age.shape)\n",
    "    print(\"female Test shapes: \", X_test_female.shape, y_test_female_age.shape)\n",
    "    print(\"female Train Age distribution:\\n\", pd.Series(y_train_female_age).value_counts(normalize=True))\n",
    "    print(\"female Test Age distribution:\\n\", pd.Series(y_test_female_age).value_counts(normalize=True))\n",
    "else:\n",
    "    print(\"No female samples found to split.\")\n",
    "    X_train_female, X_test_female, y_train_female_age, y_test_female_age = [np.array([])]*4"
   ]
  },
  {
   "cell_type": "code",
   "execution_count": 22,
   "id": "1c803ece",
   "metadata": {},
   "outputs": [],
   "source": [
    "from sklearn.decomposition import PCA\n",
    "\n",
    "pca = PCA(n_components=0.95, svd_solver='full')\n",
    "X_train_female_pca = pca.fit_transform(X_train_female)\n",
    "X_test_female_pca  = pca.transform(X_test_female)"
   ]
  },
  {
   "cell_type": "code",
   "execution_count": null,
   "id": "cb21dc46",
   "metadata": {},
   "outputs": [
    {
     "name": "stdout",
     "output_type": "stream",
     "text": [
      "--- Training Models on female Data ---\n",
      "\n",
      "=== Tuning KNN_baseline_female ===\n",
      "Fitting 3 folds for each of 4 candidates, totalling 12 fits\n",
      "  Best k: 3 | CV acc: 0.9710\n",
      "\n",
      "=== Tuning KNN_selectK_female ===\n",
      "Fitting 3 folds for each of 4 candidates, totalling 12 fits\n",
      "  Best k: 3 | CV acc: 0.9670\n",
      "\n",
      "=== Tuning KNN_pca_female ===\n",
      "Fitting 3 folds for each of 4 candidates, totalling 12 fits\n",
      "  Best k: 3 | CV acc: 0.9708\n"
     ]
    }
   ],
   "source": [
    "from sklearn.model_selection    import train_test_split, GridSearchCV\n",
    "from sklearn.preprocessing      import StandardScaler\n",
    "from sklearn.feature_selection  import SelectKBest, f_classif\n",
    "from sklearn.decomposition      import PCA\n",
    "from sklearn.pipeline           import Pipeline\n",
    "from sklearn.neighbors          import KNeighborsClassifier\n",
    "from sklearn.metrics            import classification_report, confusion_matrix\n",
    "import matplotlib.pyplot        as plt\n",
    "import seaborn                  as sns\n",
    "\n",
    "# 6) Define three pipelines\n",
    "pipelines_female = {\n",
    "    'KNN_baseline_female': Pipeline([\n",
    "        ('scaler', StandardScaler()),\n",
    "        ('knn',    KNeighborsClassifier())\n",
    "    ]),\n",
    "    'KNN_selectK_female': Pipeline([\n",
    "        ('scaler', StandardScaler()),\n",
    "        ('kbest',  SelectKBest(score_func=f_classif, k=min(100, X_train_female.shape[1] if X_train_female.ndim > 1 and X_train_female.shape[1] > 0 else 100))),\n",
    "        ('knn',    KNeighborsClassifier())\n",
    "    ]),\n",
    "    'KNN_pca_female': Pipeline([\n",
    "        ('scaler', StandardScaler()),\n",
    "        ('pca',    PCA(n_components=0.95, svd_solver='full')),\n",
    "        ('knn',    KNeighborsClassifier())\n",
    "    ]),\n",
    "}\n",
    "\n",
    "param_grid_female = {\n",
    "    'knn__n_neighbors': [3, 5, 7, 9]\n",
    "}\n",
    "\n",
    "best_models_female = {}\n",
    "print(\"--- Training Models on female Data ---\")\n",
    "\n",
    "if X_train_female.shape[0] < 5:\n",
    "    print(f\"Skipping female model training: Insufficient training samples ({X_train_female.shape[0]})\")\n",
    "elif len(np.unique(y_train_female_age)) < 2:\n",
    "     print(f\"Skipping female model training: Only one class present in y_train_female_age.\")\n",
    "else:\n",
    "    for name, pipe in pipelines_female.items():\n",
    "        print(f\"\\n=== Tuning {name} ===\")\n",
    "\n",
    "        n_splits = min(3, min(np.unique(y_train_female_age, return_counts=True)[1]))\n",
    "        if n_splits < 2:\n",
    "            print(f\"  Cannot perform cross-validation with n_splits={n_splits}. Skipping tuning for {name}.\")\n",
    "            continue\n",
    "\n",
    "        grid = GridSearchCV(pipe, param_grid_female, cv=n_splits, n_jobs=-1, verbose=1, scoring='accuracy')\n",
    "\n",
    "        try:\n",
    "            grid.fit(X_train_female, y_train_female_age)\n",
    "            print(\"  Best k:\", grid.best_params_['knn__n_neighbors'],\n",
    "                  \"| CV acc:\", f\"{grid.best_score_:.4f}\")\n",
    "            best_models_female[name] = grid.best_estimator_\n",
    "        except ValueError as e:\n",
    "             print(f\"  ERROR during GridSearchCV for {name}: {e}\")\n",
    "             print(f\"  Skipping this pipeline. Check data dimensionality, KBest k value, or PCA components.\")"
   ]
  },
  {
   "cell_type": "code",
   "execution_count": 24,
   "id": "6da14ea2",
   "metadata": {},
   "outputs": [
    {
     "name": "stdout",
     "output_type": "stream",
     "text": [
      "\n",
      "--- Evaluating female Models on female Test Data ---\n",
      "\n",
      "--- Test results for KNN_baseline_female ---\n",
      "              precision    recall  f1-score   support\n",
      "\n",
      "         50s     0.9639    0.9788    0.9713      3165\n",
      "         20s     0.9825    0.9700    0.9762      3869\n",
      "\n",
      "    accuracy                         0.9740      7034\n",
      "   macro avg     0.9732    0.9744    0.9738      7034\n",
      "weighted avg     0.9741    0.9740    0.9740      7034\n",
      "\n"
     ]
    },
    {
     "data": {
      "image/png": "[encoded data removed]",
      "text/plain": [
       "<Figure size 400x300 with 2 Axes>"
      ]
     },
     "metadata": {},
     "output_type": "display_data"
    },
    {
     "name": "stdout",
     "output_type": "stream",
     "text": [
      "\n",
      "--- Test results for KNN_selectK_female ---\n",
      "              precision    recall  f1-score   support\n",
      "\n",
      "         50s     0.9653    0.9744    0.9698      3165\n",
      "         20s     0.9789    0.9713    0.9751      3869\n",
      "\n",
      "    accuracy                         0.9727      7034\n",
      "   macro avg     0.9721    0.9729    0.9725      7034\n",
      "weighted avg     0.9728    0.9727    0.9727      7034\n",
      "\n"
     ]
    },
    {
     "data": {
      "image/png": "[encoded data removed]",
      "text/plain": [
       "<Figure size 400x300 with 2 Axes>"
      ]
     },
     "metadata": {},
     "output_type": "display_data"
    },
    {
     "name": "stdout",
     "output_type": "stream",
     "text": [
      "\n",
      "--- Test results for KNN_pca_female ---\n",
      "              precision    recall  f1-score   support\n",
      "\n",
      "         50s     0.9654    0.9779    0.9716      3165\n",
      "         20s     0.9817    0.9713    0.9765      3869\n",
      "\n",
      "    accuracy                         0.9743      7034\n",
      "   macro avg     0.9735    0.9746    0.9740      7034\n",
      "weighted avg     0.9744    0.9743    0.9743      7034\n",
      "\n"
     ]
    },
    {
     "data": {
      "image/png": "[encoded data removed]",
      "text/plain": [
       "<Figure size 400x300 with 2 Axes>"
      ]
     },
     "metadata": {},
     "output_type": "display_data"
    }
   ],
   "source": [
    "print(\"\\n--- Evaluating female Models on female Test Data ---\")\n",
    "\n",
    "age_target_names = ['50s', '20s']\n",
    "age_labels_numeric = sorted(np.unique(y_train_female_age))\n",
    "if len(age_labels_numeric) != len(age_target_names):\n",
    "    print(f\"Warning: Mismatch between number of unique age labels ({len(age_labels_numeric)}) and target names ({len(age_target_names)}). Using numeric labels.\")\n",
    "    target_names_display = [str(l) for l in age_labels_numeric]\n",
    "    xticklabels_display = [str(l) for l in age_labels_numeric]\n",
    "    yticklabels_display = [str(l) for l in age_labels_numeric]\n",
    "else:\n",
    "     target_names_display = age_target_names\n",
    "     xticklabels_display=age_target_names\n",
    "     yticklabels_display=age_target_names\n",
    "\n",
    "if not best_models_female:\n",
    "     print(\"No models were successfully trained for females.\")\n",
    "elif X_test_female.shape[0] == 0:\n",
    "     print(\"No test data available for females.\")\n",
    "else:\n",
    "    for name, model in best_models_female.items():\n",
    "        print(f\"\\n--- Test results for {name} ---\")\n",
    "\n",
    "        try:\n",
    "            y_pred_female = model.predict(X_test_female)\n",
    "\n",
    "            print(classification_report(\n",
    "                y_test_female_age, y_pred_female,\n",
    "                target_names=target_names_display,\n",
    "                digits=4,\n",
    "                zero_division=0\n",
    "            ))\n",
    "            cm = confusion_matrix(y_test_female_age, y_pred_female, labels=age_labels_numeric)\n",
    "            plt.figure(figsize=(4,3))\n",
    "            sns.heatmap(cm, annot=True, fmt='d', cmap='Blues',\n",
    "                        xticklabels=xticklabels_display, yticklabels=yticklabels_display)\n",
    "            plt.title(f\"{name} (Test Set)\")\n",
    "            plt.xlabel('Predicted Label'); plt.ylabel('True Label')\n",
    "            plt.show()\n",
    "        except Exception as e:\n",
    "            print(f\"  ERROR during prediction or evaluation for {name}: {e}\")"
   ]
  },
  {
   "cell_type": "code",
   "execution_count": 25,
   "id": "cc5e2a63",
   "metadata": {},
   "outputs": [],
   "source": [
    "for name, pipe in pipelines_female.items():\n",
    "    dump(best_models_female[name], f'female_{name}')\n",
    "\n",
    "for name, pipe in pipelines_male.items():\n",
    "    dump(best_models_male[name], f'male_{name}')"
   ]
  }
 ],
 "metadata": {
  "kernelspec": {
   "display_name": "Python 3",
   "language": "python",
   "name": "python3"
  },
  "language_info": {
   "codemirror_mode": {
    "name": "ipython",
    "version": 3
   },
   "file_extension": ".py",
   "mimetype": "text/x-python",
   "name": "python",
   "nbconvert_exporter": "python",
   "pygments_lexer": "ipython3",
   "version": "3.11.9"
  }
 },
 "nbformat": 4,
 "nbformat_minor": 5
}
